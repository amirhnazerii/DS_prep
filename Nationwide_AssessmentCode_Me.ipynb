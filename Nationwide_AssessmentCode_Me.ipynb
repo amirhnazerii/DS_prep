{
  "nbformat": 4,
  "nbformat_minor": 0,
  "metadata": {
    "colab": {
      "provenance": [],
      "collapsed_sections": [],
      "authorship_tag": "ABX9TyMunILoVNNBRWLpV/8Y+5Ex",
      "include_colab_link": true
    },
    "kernelspec": {
      "name": "python3",
      "display_name": "Python 3"
    },
    "language_info": {
      "name": "python"
    }
  },
  "cells": [
    {
      "cell_type": "markdown",
      "metadata": {
        "id": "view-in-github",
        "colab_type": "text"
      },
      "source": [
        "<a href=\"https://colab.research.google.com/github/amirhnazerii/DS_prep/blob/main/Nationwide_AssessmentCode_Me.ipynb\" target=\"_parent\"><img src=\"https://colab.research.google.com/assets/colab-badge.svg\" alt=\"Open In Colab\"/></a>"
      ]
    },
    {
      "cell_type": "markdown",
      "source": [
        "### **Data exploration**"
      ],
      "metadata": {
        "id": "OdiPYz1ak9fX"
      }
    },
    {
      "cell_type": "code",
      "source": [
        "import seaborn as sns\n",
        "import pandas as pd\n",
        "import numpy as np\n",
        "import matplotlib.pyplot as plt"
      ],
      "metadata": {
        "id": "VvZfOxk7l9kW"
      },
      "execution_count": 57,
      "outputs": []
    },
    {
      "cell_type": "code",
      "execution_count": 58,
      "metadata": {
        "id": "2EXpyzNrkBl3",
        "colab": {
          "base_uri": "https://localhost:8080/",
          "height": 0
        },
        "outputId": "9af51ab0-4f23-4f0c-e5e3-2505a55ae711"
      },
      "outputs": [
        {
          "output_type": "stream",
          "name": "stdout",
          "text": [
            "--2022-10-27 03:06:21--  https://github.com/amirhnazerii/Datasets_repo/raw/main/TRAIN_SET_2022.csv\n",
            "Resolving github.com (github.com)... 140.82.112.3\n",
            "Connecting to github.com (github.com)|140.82.112.3|:443... connected.\n",
            "HTTP request sent, awaiting response... 302 Found\n",
            "Location: https://raw.githubusercontent.com/amirhnazerii/Datasets_repo/main/TRAIN_SET_2022.csv [following]\n",
            "--2022-10-27 03:06:22--  https://raw.githubusercontent.com/amirhnazerii/Datasets_repo/main/TRAIN_SET_2022.csv\n",
            "Resolving raw.githubusercontent.com (raw.githubusercontent.com)... 185.199.110.133, 185.199.108.133, 185.199.111.133, ...\n",
            "Connecting to raw.githubusercontent.com (raw.githubusercontent.com)|185.199.110.133|:443... connected.\n",
            "HTTP request sent, awaiting response... 200 OK\n",
            "Length: 4694150 (4.5M) [text/plain]\n",
            "Saving to: ‘TRAIN_SET_2022.csv.1’\n",
            "\n",
            "TRAIN_SET_2022.csv. 100%[===================>]   4.48M  --.-KB/s    in 0.08s   \n",
            "\n",
            "2022-10-27 03:06:23 (56.6 MB/s) - ‘TRAIN_SET_2022.csv.1’ saved [4694150/4694150]\n",
            "\n"
          ]
        }
      ],
      "source": [
        "# Load data from My Github:\n",
        "\n",
        "!wget https://github.com/amirhnazerii/Datasets_repo/raw/main/TRAIN_SET_2022.csv\n"
      ]
    },
    {
      "cell_type": "code",
      "source": [
        "# Script that parses csv file into dataframe\n",
        "\n",
        "df = pd.read_csv(\"/content/TRAIN_SET_2022.csv\")\n",
        "print('dataframe shape:', df.shape)\n",
        "df.head()"
      ],
      "metadata": {
        "colab": {
          "base_uri": "https://localhost:8080/",
          "height": 473
        },
        "id": "irmZ5ImUlyXH",
        "outputId": "f6f0e476-4d7f-4f0d-e835-fe0d54cb763a"
      },
      "execution_count": 99,
      "outputs": [
        {
          "output_type": "stream",
          "name": "stdout",
          "text": [
            "dataframe shape: (15673, 28)\n"
          ]
        },
        {
          "output_type": "execute_result",
          "data": {
            "text/plain": [
              "  RESTAURANT_SERIAL_NUMBER RESTAURANT_PERMIT_NUMBER  \\\n",
              "0                DA1117270                PR0004527   \n",
              "1                DA1014948                PR0024221   \n",
              "2                DA0861994                PR0019017   \n",
              "3                DA0896719                PR0001343   \n",
              "4                DA1031041                PR0006084   \n",
              "\n",
              "                     RESTAURANT_NAME              RESTAURANT_LOCATION  \\\n",
              "0      SANDS EXPO HALL B2 CONCESSION   SANDS EXPO & CONVENTION CENTER   \n",
              "1     THAI NOODLES CAFE - RESTAURANT                THAI NOODLES CAFE   \n",
              "2         SANTA FE SPORTS BOOK GRILL  Santa Fe Station Hotel & Casino   \n",
              "3    Bracken, Walter Elem School Kit      Bracken, Walter Elem School   \n",
              "4  HARD ROCK JOINT EAST SVC BAR FL 1         HARD ROCK HOTEL & CASINO   \n",
              "\n",
              "         RESTAURANT_CATEGORY              ADDRESS       CITY   STATE  \\\n",
              "0                  Snack Bar      201 E Sands Ave  Las Vegas  Nevada   \n",
              "1                 Restaurant  6710 W CHEYENNE Ave  Las Vegas  Nevada   \n",
              "2                 Restaurant     4949 N Rancho Dr  Las Vegas  Nevada   \n",
              "3  Elementary School Kitchen       1200 N 27Th St  Las Vegas  Nevada   \n",
              "4               Bar / Tavern   4455 S Paradise Rd  Las Vegas  Nevada   \n",
              "\n",
              "          ZIP  CURRENT_DEMERITS  ...   RECORD_UPDATED  \\\n",
              "0  89169-2617               0.0  ...   1/6/2015 16:34   \n",
              "1  89108-4588               3.0  ...  2/21/2013 22:26   \n",
              "2  89130-3505               8.0  ...    4/6/2015 9:00   \n",
              "3  89101-1517               0.0  ...  2/21/2013 22:26   \n",
              "4  89169-6574               0.0  ...  2/21/2013 22:26   \n",
              "\n",
              "                LAT_LONG_RAW FIRST_VIOLATION  SECOND_VIOLATION  \\\n",
              "0  (36.1221442, 115.1652749)           204.0             215.0   \n",
              "1    (36.218691, 115.242913)           214.0             216.0   \n",
              "2  (36.2498922, 115.2441383)           202.0             215.0   \n",
              "3    (36.183669, 115.112355)           214.0             230.0   \n",
              "4  (36.1100828, 115.1538714)           214.0             230.0   \n",
              "\n",
              "  THIRD_VIOLATION FIRST_VIOLATION_TYPE SECOND_VIOLATION_TYPE  \\\n",
              "0           302.0             Critical                 Major   \n",
              "1           229.0                Major                 Major   \n",
              "2           233.0             Critical                 Major   \n",
              "3           233.0                Major             Non-Major   \n",
              "4           233.0                Major             Non-Major   \n",
              "\n",
              "     THIRD_VIOLATION_TYPE NUMBER_OF_VIOLATIONS  \\\n",
              "0  Imminent Health Hazard                    4   \n",
              "1               Non-Major                    5   \n",
              "2               Non-Major                    3   \n",
              "3               Non-Major                    3   \n",
              "4               Non-Major                  NaN   \n",
              "\n",
              "  NEXT_INSPECTION_GRADE_C_OR_BELOW  \n",
              "0                                0  \n",
              "1                                0  \n",
              "2                                1  \n",
              "3                                0  \n",
              "4                                0  \n",
              "\n",
              "[5 rows x 28 columns]"
            ],
            "text/html": [
              "\n",
              "  <div id=\"df-0db9e1a9-39bc-40a7-ab63-586370f92e89\">\n",
              "    <div class=\"colab-df-container\">\n",
              "      <div>\n",
              "<style scoped>\n",
              "    .dataframe tbody tr th:only-of-type {\n",
              "        vertical-align: middle;\n",
              "    }\n",
              "\n",
              "    .dataframe tbody tr th {\n",
              "        vertical-align: top;\n",
              "    }\n",
              "\n",
              "    .dataframe thead th {\n",
              "        text-align: right;\n",
              "    }\n",
              "</style>\n",
              "<table border=\"1\" class=\"dataframe\">\n",
              "  <thead>\n",
              "    <tr style=\"text-align: right;\">\n",
              "      <th></th>\n",
              "      <th>RESTAURANT_SERIAL_NUMBER</th>\n",
              "      <th>RESTAURANT_PERMIT_NUMBER</th>\n",
              "      <th>RESTAURANT_NAME</th>\n",
              "      <th>RESTAURANT_LOCATION</th>\n",
              "      <th>RESTAURANT_CATEGORY</th>\n",
              "      <th>ADDRESS</th>\n",
              "      <th>CITY</th>\n",
              "      <th>STATE</th>\n",
              "      <th>ZIP</th>\n",
              "      <th>CURRENT_DEMERITS</th>\n",
              "      <th>...</th>\n",
              "      <th>RECORD_UPDATED</th>\n",
              "      <th>LAT_LONG_RAW</th>\n",
              "      <th>FIRST_VIOLATION</th>\n",
              "      <th>SECOND_VIOLATION</th>\n",
              "      <th>THIRD_VIOLATION</th>\n",
              "      <th>FIRST_VIOLATION_TYPE</th>\n",
              "      <th>SECOND_VIOLATION_TYPE</th>\n",
              "      <th>THIRD_VIOLATION_TYPE</th>\n",
              "      <th>NUMBER_OF_VIOLATIONS</th>\n",
              "      <th>NEXT_INSPECTION_GRADE_C_OR_BELOW</th>\n",
              "    </tr>\n",
              "  </thead>\n",
              "  <tbody>\n",
              "    <tr>\n",
              "      <th>0</th>\n",
              "      <td>DA1117270</td>\n",
              "      <td>PR0004527</td>\n",
              "      <td>SANDS EXPO HALL B2 CONCESSION</td>\n",
              "      <td>SANDS EXPO &amp; CONVENTION CENTER</td>\n",
              "      <td>Snack Bar</td>\n",
              "      <td>201 E Sands Ave</td>\n",
              "      <td>Las Vegas</td>\n",
              "      <td>Nevada</td>\n",
              "      <td>89169-2617</td>\n",
              "      <td>0.0</td>\n",
              "      <td>...</td>\n",
              "      <td>1/6/2015 16:34</td>\n",
              "      <td>(36.1221442, 115.1652749)</td>\n",
              "      <td>204.0</td>\n",
              "      <td>215.0</td>\n",
              "      <td>302.0</td>\n",
              "      <td>Critical</td>\n",
              "      <td>Major</td>\n",
              "      <td>Imminent Health Hazard</td>\n",
              "      <td>4</td>\n",
              "      <td>0</td>\n",
              "    </tr>\n",
              "    <tr>\n",
              "      <th>1</th>\n",
              "      <td>DA1014948</td>\n",
              "      <td>PR0024221</td>\n",
              "      <td>THAI NOODLES CAFE - RESTAURANT</td>\n",
              "      <td>THAI NOODLES CAFE</td>\n",
              "      <td>Restaurant</td>\n",
              "      <td>6710 W CHEYENNE Ave</td>\n",
              "      <td>Las Vegas</td>\n",
              "      <td>Nevada</td>\n",
              "      <td>89108-4588</td>\n",
              "      <td>3.0</td>\n",
              "      <td>...</td>\n",
              "      <td>2/21/2013 22:26</td>\n",
              "      <td>(36.218691, 115.242913)</td>\n",
              "      <td>214.0</td>\n",
              "      <td>216.0</td>\n",
              "      <td>229.0</td>\n",
              "      <td>Major</td>\n",
              "      <td>Major</td>\n",
              "      <td>Non-Major</td>\n",
              "      <td>5</td>\n",
              "      <td>0</td>\n",
              "    </tr>\n",
              "    <tr>\n",
              "      <th>2</th>\n",
              "      <td>DA0861994</td>\n",
              "      <td>PR0019017</td>\n",
              "      <td>SANTA FE SPORTS BOOK GRILL</td>\n",
              "      <td>Santa Fe Station Hotel &amp; Casino</td>\n",
              "      <td>Restaurant</td>\n",
              "      <td>4949 N Rancho Dr</td>\n",
              "      <td>Las Vegas</td>\n",
              "      <td>Nevada</td>\n",
              "      <td>89130-3505</td>\n",
              "      <td>8.0</td>\n",
              "      <td>...</td>\n",
              "      <td>4/6/2015 9:00</td>\n",
              "      <td>(36.2498922, 115.2441383)</td>\n",
              "      <td>202.0</td>\n",
              "      <td>215.0</td>\n",
              "      <td>233.0</td>\n",
              "      <td>Critical</td>\n",
              "      <td>Major</td>\n",
              "      <td>Non-Major</td>\n",
              "      <td>3</td>\n",
              "      <td>1</td>\n",
              "    </tr>\n",
              "    <tr>\n",
              "      <th>3</th>\n",
              "      <td>DA0896719</td>\n",
              "      <td>PR0001343</td>\n",
              "      <td>Bracken, Walter Elem School Kit</td>\n",
              "      <td>Bracken, Walter Elem School</td>\n",
              "      <td>Elementary School Kitchen</td>\n",
              "      <td>1200 N 27Th St</td>\n",
              "      <td>Las Vegas</td>\n",
              "      <td>Nevada</td>\n",
              "      <td>89101-1517</td>\n",
              "      <td>0.0</td>\n",
              "      <td>...</td>\n",
              "      <td>2/21/2013 22:26</td>\n",
              "      <td>(36.183669, 115.112355)</td>\n",
              "      <td>214.0</td>\n",
              "      <td>230.0</td>\n",
              "      <td>233.0</td>\n",
              "      <td>Major</td>\n",
              "      <td>Non-Major</td>\n",
              "      <td>Non-Major</td>\n",
              "      <td>3</td>\n",
              "      <td>0</td>\n",
              "    </tr>\n",
              "    <tr>\n",
              "      <th>4</th>\n",
              "      <td>DA1031041</td>\n",
              "      <td>PR0006084</td>\n",
              "      <td>HARD ROCK JOINT EAST SVC BAR FL 1</td>\n",
              "      <td>HARD ROCK HOTEL &amp; CASINO</td>\n",
              "      <td>Bar / Tavern</td>\n",
              "      <td>4455 S Paradise Rd</td>\n",
              "      <td>Las Vegas</td>\n",
              "      <td>Nevada</td>\n",
              "      <td>89169-6574</td>\n",
              "      <td>0.0</td>\n",
              "      <td>...</td>\n",
              "      <td>2/21/2013 22:26</td>\n",
              "      <td>(36.1100828, 115.1538714)</td>\n",
              "      <td>214.0</td>\n",
              "      <td>230.0</td>\n",
              "      <td>233.0</td>\n",
              "      <td>Major</td>\n",
              "      <td>Non-Major</td>\n",
              "      <td>Non-Major</td>\n",
              "      <td>NaN</td>\n",
              "      <td>0</td>\n",
              "    </tr>\n",
              "  </tbody>\n",
              "</table>\n",
              "<p>5 rows × 28 columns</p>\n",
              "</div>\n",
              "      <button class=\"colab-df-convert\" onclick=\"convertToInteractive('df-0db9e1a9-39bc-40a7-ab63-586370f92e89')\"\n",
              "              title=\"Convert this dataframe to an interactive table.\"\n",
              "              style=\"display:none;\">\n",
              "        \n",
              "  <svg xmlns=\"http://www.w3.org/2000/svg\" height=\"24px\"viewBox=\"0 0 24 24\"\n",
              "       width=\"24px\">\n",
              "    <path d=\"M0 0h24v24H0V0z\" fill=\"none\"/>\n",
              "    <path d=\"M18.56 5.44l.94 2.06.94-2.06 2.06-.94-2.06-.94-.94-2.06-.94 2.06-2.06.94zm-11 1L8.5 8.5l.94-2.06 2.06-.94-2.06-.94L8.5 2.5l-.94 2.06-2.06.94zm10 10l.94 2.06.94-2.06 2.06-.94-2.06-.94-.94-2.06-.94 2.06-2.06.94z\"/><path d=\"M17.41 7.96l-1.37-1.37c-.4-.4-.92-.59-1.43-.59-.52 0-1.04.2-1.43.59L10.3 9.45l-7.72 7.72c-.78.78-.78 2.05 0 2.83L4 21.41c.39.39.9.59 1.41.59.51 0 1.02-.2 1.41-.59l7.78-7.78 2.81-2.81c.8-.78.8-2.07 0-2.86zM5.41 20L4 18.59l7.72-7.72 1.47 1.35L5.41 20z\"/>\n",
              "  </svg>\n",
              "      </button>\n",
              "      \n",
              "  <style>\n",
              "    .colab-df-container {\n",
              "      display:flex;\n",
              "      flex-wrap:wrap;\n",
              "      gap: 12px;\n",
              "    }\n",
              "\n",
              "    .colab-df-convert {\n",
              "      background-color: #E8F0FE;\n",
              "      border: none;\n",
              "      border-radius: 50%;\n",
              "      cursor: pointer;\n",
              "      display: none;\n",
              "      fill: #1967D2;\n",
              "      height: 32px;\n",
              "      padding: 0 0 0 0;\n",
              "      width: 32px;\n",
              "    }\n",
              "\n",
              "    .colab-df-convert:hover {\n",
              "      background-color: #E2EBFA;\n",
              "      box-shadow: 0px 1px 2px rgba(60, 64, 67, 0.3), 0px 1px 3px 1px rgba(60, 64, 67, 0.15);\n",
              "      fill: #174EA6;\n",
              "    }\n",
              "\n",
              "    [theme=dark] .colab-df-convert {\n",
              "      background-color: #3B4455;\n",
              "      fill: #D2E3FC;\n",
              "    }\n",
              "\n",
              "    [theme=dark] .colab-df-convert:hover {\n",
              "      background-color: #434B5C;\n",
              "      box-shadow: 0px 1px 3px 1px rgba(0, 0, 0, 0.15);\n",
              "      filter: drop-shadow(0px 1px 2px rgba(0, 0, 0, 0.3));\n",
              "      fill: #FFFFFF;\n",
              "    }\n",
              "  </style>\n",
              "\n",
              "      <script>\n",
              "        const buttonEl =\n",
              "          document.querySelector('#df-0db9e1a9-39bc-40a7-ab63-586370f92e89 button.colab-df-convert');\n",
              "        buttonEl.style.display =\n",
              "          google.colab.kernel.accessAllowed ? 'block' : 'none';\n",
              "\n",
              "        async function convertToInteractive(key) {\n",
              "          const element = document.querySelector('#df-0db9e1a9-39bc-40a7-ab63-586370f92e89');\n",
              "          const dataTable =\n",
              "            await google.colab.kernel.invokeFunction('convertToInteractive',\n",
              "                                                     [key], {});\n",
              "          if (!dataTable) return;\n",
              "\n",
              "          const docLinkHtml = 'Like what you see? Visit the ' +\n",
              "            '<a target=\"_blank\" href=https://colab.research.google.com/notebooks/data_table.ipynb>data table notebook</a>'\n",
              "            + ' to learn more about interactive tables.';\n",
              "          element.innerHTML = '';\n",
              "          dataTable['output_type'] = 'display_data';\n",
              "          await google.colab.output.renderOutput(dataTable, element);\n",
              "          const docLink = document.createElement('div');\n",
              "          docLink.innerHTML = docLinkHtml;\n",
              "          element.appendChild(docLink);\n",
              "        }\n",
              "      </script>\n",
              "    </div>\n",
              "  </div>\n",
              "  "
            ]
          },
          "metadata": {},
          "execution_count": 99
        }
      ]
    },
    {
      "cell_type": "code",
      "source": [
        "df.dtypes"
      ],
      "metadata": {
        "colab": {
          "base_uri": "https://localhost:8080/"
        },
        "id": "P-dO6EDDnuIS",
        "outputId": "80b7af34-3aa4-438d-942a-8e06b1cdbd2b"
      },
      "execution_count": null,
      "outputs": [
        {
          "output_type": "execute_result",
          "data": {
            "text/plain": [
              "RESTAURANT_SERIAL_NUMBER             object\n",
              "RESTAURANT_PERMIT_NUMBER             object\n",
              "RESTAURANT_NAME                      object\n",
              "RESTAURANT_LOCATION                  object\n",
              "RESTAURANT_CATEGORY                  object\n",
              "ADDRESS                              object\n",
              "CITY                                 object\n",
              "STATE                                object\n",
              "ZIP                                  object\n",
              "CURRENT_DEMERITS                    float64\n",
              "CURRENT_GRADE                        object\n",
              "EMPLOYEE_COUNT                      float64\n",
              "MEDIAN_EMPLOYEE_AGE                  object\n",
              "MEDIAN_EMPLOYEE_TENURE              float64\n",
              "INSPECTION_TIME                      object\n",
              "INSPECTION_TYPE                      object\n",
              "INSPECTION_DEMERITS                  object\n",
              "VIOLATIONS_RAW                       object\n",
              "RECORD_UPDATED                       object\n",
              "LAT_LONG_RAW                         object\n",
              "FIRST_VIOLATION                     float64\n",
              "SECOND_VIOLATION                    float64\n",
              "THIRD_VIOLATION                     float64\n",
              "FIRST_VIOLATION_TYPE                 object\n",
              "SECOND_VIOLATION_TYPE                object\n",
              "THIRD_VIOLATION_TYPE                 object\n",
              "NUMBER_OF_VIOLATIONS                 object\n",
              "NEXT_INSPECTION_GRADE_C_OR_BELOW     object\n",
              "dtype: object"
            ]
          },
          "metadata": {},
          "execution_count": 5
        }
      ]
    },
    {
      "cell_type": "markdown",
      "source": [
        "### **Uniques value count**"
      ],
      "metadata": {
        "id": "IhNWHY7Nsh6p"
      }
    },
    {
      "cell_type": "code",
      "source": [
        "df.isnull().sum()"
      ],
      "metadata": {
        "colab": {
          "base_uri": "https://localhost:8080/"
        },
        "id": "-TB9SCZessg-",
        "outputId": "36bff6dd-4120-48de-bde3-9c7e24cace81"
      },
      "execution_count": null,
      "outputs": [
        {
          "output_type": "execute_result",
          "data": {
            "text/plain": [
              "RESTAURANT_SERIAL_NUMBER              0\n",
              "RESTAURANT_PERMIT_NUMBER              0\n",
              "RESTAURANT_NAME                      65\n",
              "RESTAURANT_LOCATION                 200\n",
              "RESTAURANT_CATEGORY                 130\n",
              "ADDRESS                              70\n",
              "CITY                                236\n",
              "STATE                               209\n",
              "ZIP                                  59\n",
              "CURRENT_DEMERITS                    216\n",
              "CURRENT_GRADE                       305\n",
              "EMPLOYEE_COUNT                       93\n",
              "MEDIAN_EMPLOYEE_AGE                  34\n",
              "MEDIAN_EMPLOYEE_TENURE              297\n",
              "INSPECTION_TIME                     183\n",
              "INSPECTION_TYPE                     221\n",
              "INSPECTION_DEMERITS                 254\n",
              "VIOLATIONS_RAW                      165\n",
              "RECORD_UPDATED                      119\n",
              "LAT_LONG_RAW                         15\n",
              "FIRST_VIOLATION                     212\n",
              "SECOND_VIOLATION                     85\n",
              "THIRD_VIOLATION                      61\n",
              "FIRST_VIOLATION_TYPE                146\n",
              "SECOND_VIOLATION_TYPE               267\n",
              "THIRD_VIOLATION_TYPE                173\n",
              "NUMBER_OF_VIOLATIONS                169\n",
              "NEXT_INSPECTION_GRADE_C_OR_BELOW     40\n",
              "dtype: int64"
            ]
          },
          "metadata": {},
          "execution_count": 12
        }
      ]
    },
    {
      "cell_type": "code",
      "source": [
        "# for Objects\n",
        "# print(df[['RESTAURANT_CATEGORY' , 'CITY' , 'STATE' , 'CURRENT_GRADE', 'INSPECTION_TYPE' , \n",
        "#        'FIRST_VIOLATION_TYPE', 'SECOND_VIOLATION_TYPE', 'THIRD_VIOLATION_TYPE', 'NEXT_INSPECTION_GRADE_C_OR_BELOW' ]].nunique())\n",
        "\n",
        "selected_cols =['RESTAURANT_CATEGORY' , 'CITY' , 'STATE' , 'CURRENT_GRADE', 'INSPECTION_TYPE' ,\n",
        "                    'FIRST_VIOLATION_TYPE', 'SECOND_VIOLATION_TYPE', 'THIRD_VIOLATION_TYPE', 'NEXT_INSPECTION_GRADE_C_OR_BELOW' ]\n",
        "\n",
        "for i in selected_cols:\n",
        "    print(df[i].value_counts())\n",
        "\n",
        "    "
      ],
      "metadata": {
        "colab": {
          "base_uri": "https://localhost:8080/"
        },
        "id": "n1_xrP4Tv2sY",
        "outputId": "b2745e07-6601-4c15-97fd-40c92ca496d8"
      },
      "execution_count": null,
      "outputs": [
        {
          "output_type": "stream",
          "name": "stdout",
          "text": [
            "Restaurant                     9316\n",
            "Bar / Tavern                   2358\n",
            "Snack Bar                      1285\n",
            "Special Kitchen                1158\n",
            "Buffet                          223\n",
            "Portable Unit                   199\n",
            "Pantry                          165\n",
            "Meat/Poultry/Seafood            140\n",
            "Food Trucks / Mobile Vendor      99\n",
            "Caterer                          71\n",
            "Banquet Kitchen                  65\n",
            "Kitchen Bakery                   60\n",
            "Bakery Sales                     47\n",
            "Garde Manger                     47\n",
            "Vegetable Prep                   44\n",
            "Produce Market                   33\n",
            "Institutional Food Service       32\n",
            "Concessions                      29\n",
            "Confection                       26\n",
            "Elementary School Kitchen        20\n",
            "Grocery Store Sampling           19\n",
            "Banquet Support                  16\n",
            "Portable Bar                     15\n",
            "Childcare Kitchens               15\n",
            "Barbeque                         14\n",
            "Gastropub                         9\n",
            "Gas Station                       8\n",
            "Main Kitchen                      8\n",
            "Bark / Tavern                     6\n",
            "Bar / TaVen                       5\n",
            "Jimmy Buffett                     5\n",
            "Beer Bar                          3\n",
            "Farmers Market                    2\n",
            "Self-Service Food Truck           1\n",
            "Name: RESTAURANT_CATEGORY, dtype: int64\n",
            "Las Vegas                12350\n",
            "Henderson                 1510\n",
            "North Las Vegas            895\n",
            "Laughlin                   196\n",
            "Mesquite                   159\n",
            "Boulder City               132\n",
            "Primm                      103\n",
            "Searchlight                 13\n",
            "Logandale                   11\n",
            "Indian Springs              11\n",
            "Overton                     10\n",
            "New York                     9\n",
            "Saskatoon                    8\n",
            "Blue Diamond                 5\n",
            "Moapa                        4\n",
            "Jean                         3\n",
            "Goodsprings                  2\n",
            "Sandy Valley                 2\n",
            "HendeSON                     2\n",
            "Cal-Nev-Ari                  2\n",
            "Truth or Consequences        1\n",
            "Port of Spain                1\n",
            "Deep Space Nine              1\n",
            "Viva Las Vegas               1\n",
            "Walla Walla                  1\n",
            "Miami                        1\n",
            "I am Groot                   1\n",
            "Jellystone Park              1\n",
            "yyyyyyyyyyyyy                1\n",
            "HENDERSON                    1\n",
            "Name: CITY, dtype: int64\n",
            "Nevada        15404\n",
            "Baymax           14\n",
            "Neelix           10\n",
            "New York          9\n",
            "SK                8\n",
            "Capybara          5\n",
            "Disrepair         1\n",
            "Nevada!           1\n",
            "NEVADA            1\n",
            "NeVaDa            1\n",
            "TT                1\n",
            "NVVVVVV           1\n",
            "Navada            1\n",
            "Florida           1\n",
            "Montana           1\n",
            "New Mexico        1\n",
            "Washington        1\n",
            "Nelvana           1\n",
            "Star Trek         1\n",
            "Nevada?           1\n",
            "Name: STATE, dtype: int64\n",
            "A             14795\n",
            "B               262\n",
            "C               173\n",
            "X                75\n",
            "O                32\n",
            "N                13\n",
            "7                 2\n",
            "AQAAAAA           1\n",
            "U                 1\n",
            "NASA              1\n",
            "VPN               1\n",
            "UPN               1\n",
            "EIEIO             1\n",
            "I                 1\n",
            "C+                1\n",
            "AAA               1\n",
            "A+                1\n",
            "K                 1\n",
            "Ayyyyyyy          1\n",
            "AA                1\n",
            "CC                1\n",
            "Cc                1\n",
            ".\\<><1@#&|        1\n",
            "Name: CURRENT_GRADE, dtype: int64\n",
            "Routine Inspection                      14564\n",
            "Re-inspection                             866\n",
            "Kitchen Nightmares                          9\n",
            "Good Times                                  3\n",
            "Routine Non-Inspection                      2\n",
            "Bear Inspection                             2\n",
            "Kitchen Nightmares (UK)                     1\n",
            "Re-re-re-re-re-inspection                   1\n",
            "Routine Inspection by Cat                   1\n",
            "San Dimas High School Football Rules        1\n",
            "This Value Intentionally Left Blank         1\n",
            "9/20/2011 14:25                             1\n",
            "Name: INSPECTION_TYPE, dtype: int64\n",
            "Critical                             7169\n",
            "Major                                6735\n",
            "Non-Major                            1588\n",
            "Supercalifragilisticexpialidocius      11\n",
            "Kritical                               10\n",
            "Not Critical Enough                     4\n",
            "Imminent Health Hazard                  3\n",
            "Extra Crispy                            1\n",
            "Major-ish                               1\n",
            "To Infinity and Beyond                  1\n",
            "Not Sure                                1\n",
            "Radical                                 1\n",
            "Excellent                               1\n",
            "Bullwinkle                              1\n",
            "Name: FIRST_VIOLATION_TYPE, dtype: int64\n",
            "Major                     7907\n",
            "Non-Major                 4507\n",
            "Critical                  2976\n",
            "Imminent Health Hazard       5\n",
            "Kritical                     5\n",
            "I have no idea               2\n",
            "Supercritical                1\n",
            "Not Critical Enough          1\n",
            "Laverne                      1\n",
            "Kitchen Nightmares           1\n",
            "Name: SECOND_VIOLATION_TYPE, dtype: int64\n",
            "Major                        7303\n",
            "Non-Major                    7276\n",
            "Critical                      863\n",
            "Imminent Health Hazard         37\n",
            "Non-MaJoRNonMajorNonmajor       7\n",
            "Whoa                            6\n",
            "Kritical                        3\n",
            "Not Critical Enough             1\n",
            "Shirley                         1\n",
            "789wre                          1\n",
            "Down Yonder                     1\n",
            "Banana                          1\n",
            "Name: THIRD_VIOLATION_TYPE, dtype: int64\n",
            "0       12947\n",
            "1        2680\n",
            "-3          1\n",
            "Goat        1\n",
            "7           1\n",
            "9           1\n",
            "4           1\n",
            "3           1\n",
            "Name: NEXT_INSPECTION_GRADE_C_OR_BELOW, dtype: int64\n"
          ]
        }
      ]
    },
    {
      "cell_type": "code",
      "source": [
        "def countplot_(selected_feature, cols):\n",
        "\n",
        "    plt.bar(x = df[selected_feature].value_counts()[:cols].index , \n",
        "            height = df[selected_feature].value_counts()[:cols])\n",
        "    if cols> 5:\n",
        "      plt.xticks(rotation=30, ha='right')\n",
        "    else: \n",
        "        pass\n",
        "    plt.xlabel(selected_feature)\n",
        "    plt.ylabel('Count')\n",
        "    plt.title('bar-plot of'+' '+selected_feature)\n",
        "    plt.show()\n",
        "\n",
        "selected_features_dict = {'RESTAURANT_CATEGORY':10 , 'CITY':7 , 'CURRENT_GRADE':7 , 'INSPECTION_TYPE':2 ,\n",
        "                      'NEXT_INSPECTION_GRADE_C_OR_BELOW':2}\n",
        "\n",
        "\n",
        "for key in selected_features_dict:\n",
        "        countplot_(key, selected_features_dict[key])\n",
        "\n"
      ],
      "metadata": {
        "colab": {
          "base_uri": "https://localhost:8080/",
          "height": 1000
        },
        "id": "Drg39dtEYskI",
        "outputId": "85ba6e33-3949-4c90-c117-f8019819fc06"
      },
      "execution_count": null,
      "outputs": [
        {
          "output_type": "display_data",
          "data": {
            "text/plain": [
              "<Figure size 432x288 with 1 Axes>"
            ],
            "image/png": "[encoded data removed]"
          },
          "metadata": {
            "needs_background": "light"
          }
        },
        {
          "output_type": "display_data",
          "data": {
            "text/plain": [
              "<Figure size 432x288 with 1 Axes>"
            ],
            "image/png": "[encoded data removed]"
          },
          "metadata": {
            "needs_background": "light"
          }
        },
        {
          "output_type": "display_data",
          "data": {
            "text/plain": [
              "<Figure size 432x288 with 1 Axes>"
            ],
            "image/png": "[encoded data removed]"
          },
          "metadata": {
            "needs_background": "light"
          }
        },
        {
          "output_type": "display_data",
          "data": {
            "text/plain": [
              "<Figure size 432x288 with 1 Axes>"
            ],
            "image/png": "[encoded data removed]"
          },
          "metadata": {
            "needs_background": "light"
          }
        },
        {
          "output_type": "display_data",
          "data": {
            "text/plain": [
              "<Figure size 432x288 with 1 Axes>"
            ],
            "image/png": "[encoded data removed]"
          },
          "metadata": {
            "needs_background": "light"
          }
        }
      ]
    },
    {
      "cell_type": "markdown",
      "source": [
        "### **Numeric colmuns statistics**\n",
        "\n"
      ],
      "metadata": {
        "id": "uNSEE8HGlyY9"
      }
    },
    {
      "cell_type": "code",
      "source": [
        "print(df['CURRENT_DEMERITS'].describe())\n",
        "\n",
        "df_CURRENT_DEMERITS_clean= df[(df['CURRENT_DEMERITS'] >= 0) & (df['CURRENT_DEMERITS'] < 40)]['CURRENT_DEMERITS']\n",
        "\n",
        "sns.distplot(df_CURRENT_DEMERITS_clean,kde=False)\n"
      ],
      "metadata": {
        "colab": {
          "base_uri": "https://localhost:8080/",
          "height": 508
        },
        "id": "q9W_YbsbmNC_",
        "outputId": "f6260f4c-a6fc-4fd7-8300-08a18b7206fe"
      },
      "execution_count": null,
      "outputs": [
        {
          "output_type": "stream",
          "name": "stdout",
          "text": [
            "count    15457.000000\n",
            "mean         5.239552\n",
            "std         13.895923\n",
            "min         -8.000000\n",
            "25%          0.000000\n",
            "50%          5.000000\n",
            "75%          8.000000\n",
            "max       1214.000000\n",
            "Name: CURRENT_DEMERITS, dtype: float64\n"
          ]
        },
        {
          "output_type": "stream",
          "name": "stderr",
          "text": [
            "/usr/local/lib/python3.7/dist-packages/seaborn/distributions.py:2619: FutureWarning: `distplot` is a deprecated function and will be removed in a future version. Please adapt your code to use either `displot` (a figure-level function with similar flexibility) or `histplot` (an axes-level function for histograms).\n",
            "  warnings.warn(msg, FutureWarning)\n"
          ]
        },
        {
          "output_type": "execute_result",
          "data": {
            "text/plain": [
              "<matplotlib.axes._subplots.AxesSubplot at 0x7ff4dfc6e710>"
            ]
          },
          "metadata": {},
          "execution_count": 5
        },
        {
          "output_type": "display_data",
          "data": {
            "text/plain": [
              "<Figure size 432x288 with 1 Axes>"
            ],
            "image/png": "[encoded data removed]"
          },
          "metadata": {
            "needs_background": "light"
          }
        }
      ]
    },
    {
      "cell_type": "code",
      "source": [
        "print(df['EMPLOYEE_COUNT'].describe())\n",
        "\n",
        "df_EMPLOYEE_COUNT_clean= df[(df['EMPLOYEE_COUNT'] >= 1) & (df['EMPLOYEE_COUNT'] < 50)]['EMPLOYEE_COUNT']\n",
        "# df_CURRENT_DEMERITS_clean = df['EMPLOYEE_COUNT']\n",
        "sns.distplot(df_EMPLOYEE_COUNT_clean,bins= 20, kde=True)"
      ],
      "metadata": {
        "colab": {
          "base_uri": "https://localhost:8080/",
          "height": 508
        },
        "id": "6tYT_9FnmNAv",
        "outputId": "e6f0cd2b-5d5b-42cf-df58-542b34ae49a3"
      },
      "execution_count": null,
      "outputs": [
        {
          "output_type": "stream",
          "name": "stdout",
          "text": [
            "count     15580.000000\n",
            "mean         22.289345\n",
            "std         892.830909\n",
            "min          -7.000000\n",
            "25%           8.000000\n",
            "50%          14.000000\n",
            "75%          21.000000\n",
            "max      111447.000000\n",
            "Name: EMPLOYEE_COUNT, dtype: float64\n"
          ]
        },
        {
          "output_type": "stream",
          "name": "stderr",
          "text": [
            "/usr/local/lib/python3.7/dist-packages/seaborn/distributions.py:2619: FutureWarning: `distplot` is a deprecated function and will be removed in a future version. Please adapt your code to use either `displot` (a figure-level function with similar flexibility) or `histplot` (an axes-level function for histograms).\n",
            "  warnings.warn(msg, FutureWarning)\n"
          ]
        },
        {
          "output_type": "execute_result",
          "data": {
            "text/plain": [
              "<matplotlib.axes._subplots.AxesSubplot at 0x7ff49be83a90>"
            ]
          },
          "metadata": {},
          "execution_count": 12
        },
        {
          "output_type": "display_data",
          "data": {
            "text/plain": [
              "<Figure size 432x288 with 1 Axes>"
            ],
            "image/png": "[encoded data removed]"
          },
          "metadata": {
            "needs_background": "light"
          }
        }
      ]
    },
    {
      "cell_type": "code",
      "source": [
        "df['MEDIAN_EMPLOYEE_AGE'] = df['MEDIAN_EMPLOYEE_AGE'].apply(lambda x: pd.to_numeric(x, errors='coerce')).dropna()\n",
        "\n",
        "print(df['MEDIAN_EMPLOYEE_AGE'].describe())\n",
        "\n",
        "df_CURRENT_DEMERITS_clean= df[(df['MEDIAN_EMPLOYEE_AGE'] >= 1) & (df['MEDIAN_EMPLOYEE_AGE'] < 60)]['MEDIAN_EMPLOYEE_AGE']\n",
        "\n",
        "# df_CURRENT_DEMERITS_clean = df['MEDIAN_EMPLOYEE_AGE']\n",
        "sns.distplot(df_CURRENT_DEMERITS_clean,bins= 20, kde=True)"
      ],
      "metadata": {
        "colab": {
          "base_uri": "https://localhost:8080/",
          "height": 508
        },
        "id": "zSP6HZ6OmM91",
        "outputId": "40dfb4ea-45eb-4346-851c-8c18eee48df6"
      },
      "execution_count": null,
      "outputs": [
        {
          "output_type": "stream",
          "name": "stdout",
          "text": [
            "count    1.563500e+04\n",
            "mean     2.637480e+12\n",
            "std      3.297905e+14\n",
            "min     -3.146213e+00\n",
            "25%      2.460310e+01\n",
            "50%      2.797013e+01\n",
            "75%      3.140988e+01\n",
            "max      4.123700e+16\n",
            "Name: MEDIAN_EMPLOYEE_AGE, dtype: float64\n"
          ]
        },
        {
          "output_type": "stream",
          "name": "stderr",
          "text": [
            "/usr/local/lib/python3.7/dist-packages/seaborn/distributions.py:2619: FutureWarning: `distplot` is a deprecated function and will be removed in a future version. Please adapt your code to use either `displot` (a figure-level function with similar flexibility) or `histplot` (an axes-level function for histograms).\n",
            "  warnings.warn(msg, FutureWarning)\n"
          ]
        },
        {
          "output_type": "execute_result",
          "data": {
            "text/plain": [
              "<matplotlib.axes._subplots.AxesSubplot at 0x7fb34ff8e8d0>"
            ]
          },
          "metadata": {},
          "execution_count": 46
        },
        {
          "output_type": "display_data",
          "data": {
            "text/plain": [
              "<Figure size 432x288 with 1 Axes>"
            ],
            "image/png": "[encoded data removed]"
          },
          "metadata": {
            "needs_background": "light"
          }
        }
      ]
    },
    {
      "cell_type": "code",
      "source": [
        "# INSPECTION_DEMERITS\n",
        "\n",
        "df['INSPECTION_DEMERITS'] = df['INSPECTION_DEMERITS'].apply(lambda x: pd.to_numeric(x, errors='coerce')).dropna()\n",
        "\n",
        "print(df['INSPECTION_DEMERITS'].describe())\n",
        "\n",
        "df_INSPECTION_DEMERITS_clean= df[(df['INSPECTION_DEMERITS'] >= 1) & (df['INSPECTION_DEMERITS'] < 60)]['INSPECTION_DEMERITS']\n",
        "\n",
        "# df_INSPECTION_DEMERITS_clean = df['INSPECTION_DEMERITS']\n",
        "sns.distplot(df_INSPECTION_DEMERITS_clean, kde=True)"
      ],
      "metadata": {
        "colab": {
          "base_uri": "https://localhost:8080/",
          "height": 508
        },
        "id": "3TrUjbZNmM4L",
        "outputId": "eddcba87-70b7-4ace-8f51-8bdb9a39d7a3"
      },
      "execution_count": null,
      "outputs": [
        {
          "output_type": "stream",
          "name": "stdout",
          "text": [
            "count     15413.000000\n",
            "mean         29.516317\n",
            "std        1962.758436\n",
            "min         -10.000000\n",
            "25%           8.000000\n",
            "50%          10.000000\n",
            "75%          19.000000\n",
            "max      243678.000000\n",
            "Name: INSPECTION_DEMERITS, dtype: float64\n"
          ]
        },
        {
          "output_type": "stream",
          "name": "stderr",
          "text": [
            "/usr/local/lib/python3.7/dist-packages/seaborn/distributions.py:2619: FutureWarning: `distplot` is a deprecated function and will be removed in a future version. Please adapt your code to use either `displot` (a figure-level function with similar flexibility) or `histplot` (an axes-level function for histograms).\n",
            "  warnings.warn(msg, FutureWarning)\n"
          ]
        },
        {
          "output_type": "execute_result",
          "data": {
            "text/plain": [
              "<matplotlib.axes._subplots.AxesSubplot at 0x7ff49bff4650>"
            ]
          },
          "metadata": {},
          "execution_count": 11
        },
        {
          "output_type": "display_data",
          "data": {
            "text/plain": [
              "<Figure size 432x288 with 1 Axes>"
            ],
            "image/png": "[encoded data removed]"
          },
          "metadata": {
            "needs_background": "light"
          }
        }
      ]
    },
    {
      "cell_type": "code",
      "source": [
        "# df['INSPECTION_TYPE'] = \n",
        "df_clean = df[df['INSPECTION_TYPE'].isin([\"Routine Inspection\",\"Re-inspection\"])]\n",
        "df_clean = df_clean[df_clean['NEXT_INSPECTION_GRADE_C_OR_BELOW'].isin([\"0\",\"1\"])]\n",
        "\n",
        "# df_clean['INSPECTION_TYPE'].describe()\n",
        "sns.countplot(data=df_clean, x='INSPECTION_TYPE', hue='NEXT_INSPECTION_GRADE_C_OR_BELOW')\n"
      ],
      "metadata": {
        "colab": {
          "base_uri": "https://localhost:8080/",
          "height": 297
        },
        "id": "SdQeAAmtmM1N",
        "outputId": "6f5d304b-acd5-49b9-d7ef-44d67f02c025"
      },
      "execution_count": null,
      "outputs": [
        {
          "output_type": "execute_result",
          "data": {
            "text/plain": [
              "<matplotlib.axes._subplots.AxesSubplot at 0x7f7c56bf6ad0>"
            ]
          },
          "metadata": {},
          "execution_count": 9
        },
        {
          "output_type": "display_data",
          "data": {
            "text/plain": [
              "<Figure size 432x288 with 1 Axes>"
            ],
            "image/png": "[encoded data removed]"
          },
          "metadata": {
            "needs_background": "light"
          }
        }
      ]
    },
    {
      "cell_type": "code",
      "source": [
        "NEXT_INSPECTION_GRADE_groupedby_INSPECTION_TYPE = df_clean.groupby(['INSPECTION_TYPE','NEXT_INSPECTION_GRADE_C_OR_BELOW'])['NEXT_INSPECTION_GRADE_C_OR_BELOW'].count()\n",
        "NEXT_INSPECTION_GRADE_groupedby_INSPECTION_TYPE"
      ],
      "metadata": {
        "colab": {
          "base_uri": "https://localhost:8080/"
        },
        "id": "_VSEa9S0PNJn",
        "outputId": "ded3de8f-9004-46ec-c9a6-eb33bc0abf16"
      },
      "execution_count": null,
      "outputs": [
        {
          "output_type": "execute_result",
          "data": {
            "text/plain": [
              "INSPECTION_TYPE     NEXT_INSPECTION_GRADE_C_OR_BELOW\n",
              "Re-inspection       0                                     711\n",
              "                    1                                     154\n",
              "Routine Inspection  0                                   12022\n",
              "                    1                                    2497\n",
              "Name: NEXT_INSPECTION_GRADE_C_OR_BELOW, dtype: int64"
            ]
          },
          "metadata": {},
          "execution_count": 10
        }
      ]
    },
    {
      "cell_type": "code",
      "source": [
        "print('Probability of 1 in Routine_Inspection :', NEXT_INSPECTION_GRADE_groupedby_INSPECTION_TYPE['Routine Inspection'][1]/\n",
        "      NEXT_INSPECTION_GRADE_groupedby_INSPECTION_TYPE['Routine Inspection'].sum()) \n",
        "print('Probability of 1 in Re-inspection :', NEXT_INSPECTION_GRADE_groupedby_INSPECTION_TYPE['Re-inspection'][1]/\n",
        "      NEXT_INSPECTION_GRADE_groupedby_INSPECTION_TYPE['Re-inspection'].sum())\n",
        "\n",
        "'''\n",
        "That means INSPECTION_TYPE has no impact on NEXT_INSPECTION_GRADE_C_OR_BELOW results. \n",
        "'''"
      ],
      "metadata": {
        "colab": {
          "base_uri": "https://localhost:8080/",
          "height": 70
        },
        "id": "BcQVs5uXVcAw",
        "outputId": "d22f12d6-160d-4fcb-f427-73c83206ded1"
      },
      "execution_count": null,
      "outputs": [
        {
          "output_type": "stream",
          "name": "stdout",
          "text": [
            "Probability of 1 in Routine_Inspection : 0.17198154142847302\n",
            "Probability of 1 in Re-inspection : 0.17803468208092485\n"
          ]
        },
        {
          "output_type": "execute_result",
          "data": {
            "text/plain": [
              "'\\nThat means INSPECTION_TYPE has no impact on NEXT_INSPECTION_GRADE_C_OR_BELOW results. \\n'"
            ],
            "application/vnd.google.colaboratory.intrinsic+json": {
              "type": "string"
            }
          },
          "metadata": {},
          "execution_count": 11
        }
      ]
    },
    {
      "cell_type": "code",
      "source": [
        "city_idex_list= df['CITY'].value_counts()[:4].index"
      ],
      "metadata": {
        "id": "ef1Dc4VFWorZ"
      },
      "execution_count": null,
      "outputs": []
    },
    {
      "cell_type": "code",
      "source": [
        "df['CITY'].value_counts()[:4].index"
      ],
      "metadata": {
        "colab": {
          "base_uri": "https://localhost:8080/"
        },
        "id": "m1CvCaFNuRc-",
        "outputId": "396a5ca7-9da5-460d-abca-efcca2e7efa6"
      },
      "execution_count": null,
      "outputs": [
        {
          "output_type": "execute_result",
          "data": {
            "text/plain": [
              "Index(['Las Vegas', 'Henderson', 'North Las Vegas', 'Laughlin'], dtype='object')"
            ]
          },
          "metadata": {},
          "execution_count": 12
        }
      ]
    },
    {
      "cell_type": "code",
      "source": [
        "df_clean_CITY = df[df['CITY'].isin(city_idex_list)]\n",
        "df_clean_CITY = df_clean_CITY[df_clean_CITY['NEXT_INSPECTION_GRADE_C_OR_BELOW'].isin([\"0\",\"1\"])]\n",
        "sns.countplot(data=df_clean_CITY, x='CITY', hue='NEXT_INSPECTION_GRADE_C_OR_BELOW')\n"
      ],
      "metadata": {
        "colab": {
          "base_uri": "https://localhost:8080/",
          "height": 296
        },
        "id": "gdPsIRZNWopI",
        "outputId": "bae56331-8fc4-4a8b-9d3d-f16622c8b1f4"
      },
      "execution_count": null,
      "outputs": [
        {
          "output_type": "execute_result",
          "data": {
            "text/plain": [
              "<matplotlib.axes._subplots.AxesSubplot at 0x7f7c57233e50>"
            ]
          },
          "metadata": {},
          "execution_count": 7
        },
        {
          "output_type": "display_data",
          "data": {
            "text/plain": [
              "<Figure size 432x288 with 1 Axes>"
            ],
            "image/png": "[encoded data removed]"
          },
          "metadata": {
            "needs_background": "light"
          }
        }
      ]
    },
    {
      "cell_type": "code",
      "source": [
        "NEXT_INSPECTION_GRADE_groupedby_CITY = df_clean.groupby(['CITY','NEXT_INSPECTION_GRADE_C_OR_BELOW'])['NEXT_INSPECTION_GRADE_C_OR_BELOW'].count()\n",
        "print('Probability of 1 in Las Vegas :', NEXT_INSPECTION_GRADE_groupedby_CITY['Las Vegas'][1]/\n",
        "      NEXT_INSPECTION_GRADE_groupedby_CITY['Las Vegas'].sum()) \n",
        "print('Probability of 1 in Henderson :', NEXT_INSPECTION_GRADE_groupedby_CITY['Henderson'][1]/\n",
        "      NEXT_INSPECTION_GRADE_groupedby_CITY['Henderson'].sum())\n",
        "print('Probability of 1 in North Las Vegas :', NEXT_INSPECTION_GRADE_groupedby_CITY['North Las Vegas'][1]/\n",
        "      NEXT_INSPECTION_GRADE_groupedby_CITY['North Las Vegas'].sum())\n",
        "print('Probability of 1 in Laughlin :', NEXT_INSPECTION_GRADE_groupedby_CITY['Laughlin'][1]/\n",
        "      NEXT_INSPECTION_GRADE_groupedby_CITY['Laughlin'].sum())"
      ],
      "metadata": {
        "colab": {
          "base_uri": "https://localhost:8080/"
        },
        "id": "FSW44xt2Womc",
        "outputId": "cbdeb134-39e4-4b1a-e829-b1757749f7a8"
      },
      "execution_count": null,
      "outputs": [
        {
          "output_type": "stream",
          "name": "stdout",
          "text": [
            "Probability of 1 in Las Vegas : 0.17644631509449535\n",
            "Probability of 1 in Henderson : 0.15870880968392737\n",
            "Probability of 1 in North Las Vegas : 0.1638418079096045\n",
            "Probability of 1 in Laughlin : 0.10309278350515463\n"
          ]
        }
      ]
    },
    {
      "cell_type": "code",
      "source": [
        "df['INSPECTION_DEMERITS'] = df['INSPECTION_DEMERITS'].apply(lambda x: pd.to_numeric(x, errors='coerce')).dropna()\n",
        "\n",
        "df['INSPECTION_DEMERITS']= df[(df['INSPECTION_DEMERITS'] >= 1) & (df['INSPECTION_DEMERITS'] < 60)]['INSPECTION_DEMERITS']\n",
        "\n",
        "df['CURRENT_DEMERITS'] = df['CURRENT_DEMERITS'].apply(lambda x: pd.to_numeric(x, errors='coerce')).dropna()\n",
        "\n",
        "df['CURRENT_DEMERITS']= df[(df['CURRENT_DEMERITS'] >= 1) & (df['CURRENT_DEMERITS'] < 60)]['CURRENT_DEMERITS']\n",
        "\n",
        "\n",
        "sns.regplot(x = 'CURRENT_DEMERITS' , y='INSPECTION_DEMERITS', data= df)"
      ],
      "metadata": {
        "id": "XMzAtBJBWojd",
        "colab": {
          "base_uri": "https://localhost:8080/",
          "height": 297
        },
        "outputId": "b5698558-eb36-4659-d57c-819cd74b8f05"
      },
      "execution_count": null,
      "outputs": [
        {
          "output_type": "execute_result",
          "data": {
            "text/plain": [
              "<matplotlib.axes._subplots.AxesSubplot at 0x7ff4df69fed0>"
            ]
          },
          "metadata": {},
          "execution_count": 7
        },
        {
          "output_type": "display_data",
          "data": {
            "text/plain": [
              "<Figure size 432x288 with 1 Axes>"
            ],
            "image/png": "[encoded data removed]"
          },
          "metadata": {
            "needs_background": "light"
          }
        }
      ]
    },
    {
      "cell_type": "code",
      "source": [
        "df['INSPECTION_DEMERITS'] = df['INSPECTION_DEMERITS'].apply(lambda x: pd.to_numeric(x, errors='coerce')).dropna()\n",
        "\n",
        "df['INSPECTION_DEMERITS']= df[(df['INSPECTION_DEMERITS'] >= 1) & (df['INSPECTION_DEMERITS'] < 60)]['INSPECTION_DEMERITS']\n",
        "\n",
        "df['NUMBER_OF_VIOLATIONS'] = df['NUMBER_OF_VIOLATIONS'].apply(lambda x: pd.to_numeric(x, errors='coerce')).dropna()\n",
        "\n",
        "df['NUMBER_OF_VIOLATIONS']= df[(df['NUMBER_OF_VIOLATIONS'] >= 1) & (df['NUMBER_OF_VIOLATIONS'] < 60)]['NUMBER_OF_VIOLATIONS']\n",
        "\n",
        "\n",
        "sns.regplot(x = 'NUMBER_OF_VIOLATIONS' , y='INSPECTION_DEMERITS', data= df)"
      ],
      "metadata": {
        "id": "EWWeNf_MWogd",
        "colab": {
          "base_uri": "https://localhost:8080/",
          "height": 297
        },
        "outputId": "65625809-4311-4482-8b14-e2eee4be85c9"
      },
      "execution_count": null,
      "outputs": [
        {
          "output_type": "execute_result",
          "data": {
            "text/plain": [
              "<matplotlib.axes._subplots.AxesSubplot at 0x7ff4df62cc10>"
            ]
          },
          "metadata": {},
          "execution_count": 8
        },
        {
          "output_type": "display_data",
          "data": {
            "text/plain": [
              "<Figure size 432x288 with 1 Axes>"
            ],
            "image/png": "[encoded data removed]"
          },
          "metadata": {
            "needs_background": "light"
          }
        }
      ]
    },
    {
      "cell_type": "code",
      "source": [
        "df['INSPECTION_DEMERITS'] = df['INSPECTION_DEMERITS'].apply(lambda x: pd.to_numeric(x, errors='coerce')).dropna()\n",
        "\n",
        "df['INSPECTION_DEMERITS']= df[(df['INSPECTION_DEMERITS'] >= 1) & (df['INSPECTION_DEMERITS'] < 50)]['INSPECTION_DEMERITS']"
      ],
      "metadata": {
        "id": "0igPXbZy1KWl"
      },
      "execution_count": null,
      "outputs": []
    },
    {
      "cell_type": "code",
      "source": [
        "# bins = np.linspace(df[\"INSPECTION_DEMERITS\"].min(), df[\"INSPECTION_DEMERITS\"].max(), 4)\n",
        "\n",
        "# group_names = ['Low', 'Medium', 'High']\n",
        "\n",
        "# df['INSPECTION_DEMERITS'] = pd.cut(df['INSPECTION_DEMERITS'], bins, labels=group_names, include_lowest=True )"
      ],
      "metadata": {
        "id": "v36I21Sp0nOq"
      },
      "execution_count": null,
      "outputs": []
    },
    {
      "cell_type": "code",
      "source": [
        "df['CURRENT_DEMERITS'] = df['CURRENT_DEMERITS'].apply(lambda x: pd.to_numeric(x, errors='coerce')).dropna()\n",
        "\n",
        "df['CURRENT_DEMERITS']= df[(df['CURRENT_DEMERITS'] >= 1) & (df['CURRENT_DEMERITS'] < 40)]['CURRENT_DEMERITS']\n"
      ],
      "metadata": {
        "id": "hXY2aVMn3qSW"
      },
      "execution_count": null,
      "outputs": []
    },
    {
      "cell_type": "code",
      "source": [
        "# bins = np.linspace(df[\"CURRENT_DEMERITS\"].min(), df[\"CURRENT_DEMERITS\"].max(), 4)\n",
        "\n",
        "# group_names = ['Low', 'Medium', 'High']\n",
        "\n",
        "# df['CURRENT_DEMERITS'] = pd.cut(df['CURRENT_DEMERITS'], bins, labels=group_names, include_lowest=True )"
      ],
      "metadata": {
        "id": "rIZw-_l-3p4u"
      },
      "execution_count": null,
      "outputs": []
    },
    {
      "cell_type": "code",
      "source": [
        "from sklearn.preprocessing import LabelEncoder\n",
        "\n",
        "\n",
        "cat_features_dict = {'RESTAURANT_CATEGORY':10 , 'CITY':7 , 'CURRENT_GRADE':7 , 'INSPECTION_TYPE':2 , 'FIRST_VIOLATION_TYPE': 3, \n",
        "                      'NEXT_INSPECTION_GRADE_C_OR_BELOW':2 }\n",
        "\n",
        "cat_subset = ['RESTAURANT_CATEGORY', 'CITY', 'CURRENT_GRADE', 'INSPECTION_TYPE', 'FIRST_VIOLATION_TYPE',\n",
        "                                       'INSPECTION_DEMERITS', 'CURRENT_DEMERITS' , 'NEXT_INSPECTION_GRADE_C_OR_BELOW']\n",
        "df.dropna(subset=cat_subset , axis=0, inplace=True)\n",
        "df_cat_subset = df[cat_subset]\n",
        "\n",
        "for key in cat_features_dict:\n",
        "      cols = cat_features_dict[key]\n",
        "      values_list = df[key].value_counts()[:cols].index\n",
        "      df_cat_subset = df_cat_subset[df_cat_subset[key].isin(values_list)]\n",
        "\n",
        "      # df[key] = df.iloc[:14000][key]\n",
        "\n",
        "\n",
        "df.dropna(subset=['RESTAURANT_CATEGORY', 'CITY', 'CURRENT_GRADE', 'INSPECTION_TYPE' , 'FIRST_VIOLATION_TYPE' \n",
        "                                        , 'NEXT_INSPECTION_GRADE_C_OR_BELOW' , 'INSPECTION_DEMERITS', 'CURRENT_DEMERITS'\n",
        "                                        ], axis=0, inplace=True)\n",
        "\n",
        "\n",
        "selected_features_list = ['RESTAURANT_CATEGORY', 'CITY', 'CURRENT_GRADE', 'INSPECTION_TYPE', 'FIRST_VIOLATION_TYPE', \n",
        "                            'INSPECTION_DEMERITS', 'CURRENT_DEMERITS']\n",
        "\n",
        "label_encoder = LabelEncoder()\n",
        "\n",
        "for feature in selected_features_list:\n",
        "    df_cat_subset[feature] = label_encoder.fit_transform(df_cat_subset[feature])\n",
        "\n"
      ],
      "metadata": {
        "id": "nnTafDoRWodX"
      },
      "execution_count": null,
      "outputs": []
    },
    {
      "cell_type": "code",
      "source": [
        "from sklearn.feature_selection import chi2\n",
        "\n",
        "chi_scores = chi2(df_cat_subset[selected_features_list],df_cat_subset['NEXT_INSPECTION_GRADE_C_OR_BELOW'])\n",
        "print(chi_scores)\n",
        "\n",
        "'''\n",
        "NEXT_INSPECTION_GRADE_C_OR_BELOW Most correlation with 1st: 'INSPECTION_DEMERITS' , 2nd: 'CURRENT_DEMERITS', 3rd: 'CURRENT_GRADE'\n",
        "'''"
      ],
      "metadata": {
        "colab": {
          "base_uri": "https://localhost:8080/",
          "height": 88
        },
        "id": "qeBdjCzCFK5b",
        "outputId": "0bbfe932-d9b1-4263-b796-8c594dfc6e24"
      },
      "execution_count": null,
      "outputs": [
        {
          "output_type": "stream",
          "name": "stdout",
          "text": [
            "(array([2.26900868e+01, 5.32763978e-03, 2.92390414e+01, 4.52848122e-03,\n",
            "       4.51599638e+00, 2.45631186e+02, 3.58277729e+01]), array([1.90347340e-06, 9.41813532e-01, 6.39770338e-08, 9.46347661e-01,\n",
            "       3.35793224e-02, 2.32762744e-55, 2.15553171e-09]))\n"
          ]
        },
        {
          "output_type": "execute_result",
          "data": {
            "text/plain": [
              "\"\\nNEXT_INSPECTION_GRADE_C_OR_BELOW Most correlation with 1st: 'INSPECTION_DEMERITS' , 2nd: 'CURRENT_DEMERITS', 3rd: 'CURRENT_GRADE'\\n\""
            ],
            "application/vnd.google.colaboratory.intrinsic+json": {
              "type": "string"
            }
          },
          "metadata": {},
          "execution_count": 14
        }
      ]
    },
    {
      "cell_type": "code",
      "source": [
        "sns.countplot(data=df_cat_subset, x='FIRST_VIOLATION_TYPE', hue='NEXT_INSPECTION_GRADE_C_OR_BELOW')"
      ],
      "metadata": {
        "colab": {
          "base_uri": "https://localhost:8080/",
          "height": 297
        },
        "id": "9RpGH3p4ILJU",
        "outputId": "dafd8e51-062c-47c3-b7f2-98da273dd18a"
      },
      "execution_count": null,
      "outputs": [
        {
          "output_type": "execute_result",
          "data": {
            "text/plain": [
              "<matplotlib.axes._subplots.AxesSubplot at 0x7f0dcc425710>"
            ]
          },
          "metadata": {},
          "execution_count": 15
        },
        {
          "output_type": "display_data",
          "data": {
            "text/plain": [
              "<Figure size 432x288 with 1 Axes>"
            ],
            "image/png": "[encoded data removed]"
          },
          "metadata": {
            "needs_background": "light"
          }
        }
      ]
    },
    {
      "cell_type": "code",
      "source": [
        "# fig, ax = plt.subplots(figsize=(10, 5))\n",
        "grouped =  df[['INSPECTION_DEMERITS','NEXT_INSPECTION_GRADE_C_OR_BELOW']].groupby('NEXT_INSPECTION_GRADE_C_OR_BELOW')\n",
        "\n",
        "grouped.boxplot()\n",
        "# sns.boxplot(data=df, x= 'INSPECTION_DEMERITS', hue=\"NEXT_INSPECTION_GRADE_C_OR_BELOW\")"
      ],
      "metadata": {
        "colab": {
          "base_uri": "https://localhost:8080/",
          "height": 333
        },
        "id": "F5bCLKvM8Np_",
        "outputId": "0e7d4736-3965-4899-aa07-566163fe5491"
      },
      "execution_count": null,
      "outputs": [
        {
          "output_type": "execute_result",
          "data": {
            "text/plain": [
              "0         AxesSubplot(0.1,0.15;0.363636x0.75)\n",
              "1    AxesSubplot(0.536364,0.15;0.363636x0.75)\n",
              "dtype: object"
            ]
          },
          "metadata": {},
          "execution_count": 61
        },
        {
          "output_type": "display_data",
          "data": {
            "text/plain": [
              "<Figure size 432x288 with 2 Axes>"
            ],
            "image/png": "[encoded data removed]"
          },
          "metadata": {
            "needs_background": "light"
          }
        }
      ]
    },
    {
      "cell_type": "markdown",
      "source": [
        " Based on the correlation matrix heatmap, the following pairs of columns are strongly correlated: 'inspection_demerits' and 'number_of_violations.' These two features reflect very similar information. Given that 'inspection_demeritts' contain more nuanced information, I drop 'number_of_violations' from further analysis."
      ],
      "metadata": {
        "id": "FKQ3P8Y2P7Os"
      }
    },
    {
      "cell_type": "markdown",
      "source": [
        "## **Preprocessing** "
      ],
      "metadata": {
        "id": "UW40RfRYWc52"
      }
    },
    {
      "cell_type": "code",
      "source": [
        "len(df['ZIP'].unique())"
      ],
      "metadata": {
        "colab": {
          "base_uri": "https://localhost:8080/"
        },
        "id": "O3pGs0g6f31x",
        "outputId": "c4eec48a-f3cb-4869-c1ff-50cc0c27d9e9"
      },
      "execution_count": null,
      "outputs": [
        {
          "output_type": "execute_result",
          "data": {
            "text/plain": [
              "2484"
            ]
          },
          "metadata": {},
          "execution_count": 4
        }
      ]
    },
    {
      "cell_type": "code",
      "source": [
        "df['NUMBER_OF_VIOLATIONS'].unique()"
      ],
      "metadata": {
        "colab": {
          "base_uri": "https://localhost:8080/"
        },
        "id": "wzpOkxyjXlIR",
        "outputId": "ab65d916-d306-4869-9f38-d60053329b6c"
      },
      "execution_count": null,
      "outputs": [
        {
          "output_type": "execute_result",
          "data": {
            "text/plain": [
              "array(['4', '5', '3', nan, '7', '12', '10', '6', '13', '14', '8', '19',\n",
              "       '11', '9', '17', '22', '15', '20', '18', '16', '23', '21', '30',\n",
              "       '25', '24', 'Nevada', '42', '28'], dtype=object)"
            ]
          },
          "metadata": {},
          "execution_count": 4
        }
      ]
    },
    {
      "cell_type": "code",
      "source": [
        "# drop redundant features:\n",
        "\n",
        "df.drop(['RESTAURANT_SERIAL_NUMBER', 'RESTAURANT_PERMIT_NUMBER', 'RESTAURANT_NAME', 'RESTAURANT_LOCATION', \n",
        "          'ADDRESS', 'CITY', 'STATE', 'CURRENT_GRADE', 'INSPECTION_TIME', 'INSPECTION_TYPE', 'VIOLATIONS_RAW',\n",
        "            'RECORD_UPDATED', 'LAT_LONG_RAW', 'FIRST_VIOLATION', 'SECOND_VIOLATION', 'THIRD_VIOLATION',\n",
        "               'FIRST_VIOLATION_TYPE', 'SECOND_VIOLATION_TYPE', 'THIRD_VIOLATION_TYPE', 'ZIP'], axis=1, inplace = True)\n",
        "df.head(3)"
      ],
      "metadata": {
        "colab": {
          "base_uri": "https://localhost:8080/",
          "height": 207
        },
        "id": "waqeYS-7XASP",
        "outputId": "e45e9568-e1b4-45b0-9dcb-f1e9b18dbbca"
      },
      "execution_count": 100,
      "outputs": [
        {
          "output_type": "execute_result",
          "data": {
            "text/plain": [
              "  RESTAURANT_CATEGORY  CURRENT_DEMERITS  EMPLOYEE_COUNT MEDIAN_EMPLOYEE_AGE  \\\n",
              "0           Snack Bar               0.0            25.0         27.95998269   \n",
              "1          Restaurant               3.0             7.0         27.71936533   \n",
              "2          Restaurant               8.0            23.0         26.44263674   \n",
              "\n",
              "   MEDIAN_EMPLOYEE_TENURE INSPECTION_DEMERITS NUMBER_OF_VIOLATIONS  \\\n",
              "0               13.004886                  11                    4   \n",
              "1                3.922086                   9                    5   \n",
              "2               10.312777                   9                    3   \n",
              "\n",
              "  NEXT_INSPECTION_GRADE_C_OR_BELOW  \n",
              "0                                0  \n",
              "1                                0  \n",
              "2                                1  "
            ],
            "text/html": [
              "\n",
              "  <div id=\"df-53c3ca9d-2c7b-4802-91f7-d52aca0174fe\">\n",
              "    <div class=\"colab-df-container\">\n",
              "      <div>\n",
              "<style scoped>\n",
              "    .dataframe tbody tr th:only-of-type {\n",
              "        vertical-align: middle;\n",
              "    }\n",
              "\n",
              "    .dataframe tbody tr th {\n",
              "        vertical-align: top;\n",
              "    }\n",
              "\n",
              "    .dataframe thead th {\n",
              "        text-align: right;\n",
              "    }\n",
              "</style>\n",
              "<table border=\"1\" class=\"dataframe\">\n",
              "  <thead>\n",
              "    <tr style=\"text-align: right;\">\n",
              "      <th></th>\n",
              "      <th>RESTAURANT_CATEGORY</th>\n",
              "      <th>CURRENT_DEMERITS</th>\n",
              "      <th>EMPLOYEE_COUNT</th>\n",
              "      <th>MEDIAN_EMPLOYEE_AGE</th>\n",
              "      <th>MEDIAN_EMPLOYEE_TENURE</th>\n",
              "      <th>INSPECTION_DEMERITS</th>\n",
              "      <th>NUMBER_OF_VIOLATIONS</th>\n",
              "      <th>NEXT_INSPECTION_GRADE_C_OR_BELOW</th>\n",
              "    </tr>\n",
              "  </thead>\n",
              "  <tbody>\n",
              "    <tr>\n",
              "      <th>0</th>\n",
              "      <td>Snack Bar</td>\n",
              "      <td>0.0</td>\n",
              "      <td>25.0</td>\n",
              "      <td>27.95998269</td>\n",
              "      <td>13.004886</td>\n",
              "      <td>11</td>\n",
              "      <td>4</td>\n",
              "      <td>0</td>\n",
              "    </tr>\n",
              "    <tr>\n",
              "      <th>1</th>\n",
              "      <td>Restaurant</td>\n",
              "      <td>3.0</td>\n",
              "      <td>7.0</td>\n",
              "      <td>27.71936533</td>\n",
              "      <td>3.922086</td>\n",
              "      <td>9</td>\n",
              "      <td>5</td>\n",
              "      <td>0</td>\n",
              "    </tr>\n",
              "    <tr>\n",
              "      <th>2</th>\n",
              "      <td>Restaurant</td>\n",
              "      <td>8.0</td>\n",
              "      <td>23.0</td>\n",
              "      <td>26.44263674</td>\n",
              "      <td>10.312777</td>\n",
              "      <td>9</td>\n",
              "      <td>3</td>\n",
              "      <td>1</td>\n",
              "    </tr>\n",
              "  </tbody>\n",
              "</table>\n",
              "</div>\n",
              "      <button class=\"colab-df-convert\" onclick=\"convertToInteractive('df-53c3ca9d-2c7b-4802-91f7-d52aca0174fe')\"\n",
              "              title=\"Convert this dataframe to an interactive table.\"\n",
              "              style=\"display:none;\">\n",
              "        \n",
              "  <svg xmlns=\"http://www.w3.org/2000/svg\" height=\"24px\"viewBox=\"0 0 24 24\"\n",
              "       width=\"24px\">\n",
              "    <path d=\"M0 0h24v24H0V0z\" fill=\"none\"/>\n",
              "    <path d=\"M18.56 5.44l.94 2.06.94-2.06 2.06-.94-2.06-.94-.94-2.06-.94 2.06-2.06.94zm-11 1L8.5 8.5l.94-2.06 2.06-.94-2.06-.94L8.5 2.5l-.94 2.06-2.06.94zm10 10l.94 2.06.94-2.06 2.06-.94-2.06-.94-.94-2.06-.94 2.06-2.06.94z\"/><path d=\"M17.41 7.96l-1.37-1.37c-.4-.4-.92-.59-1.43-.59-.52 0-1.04.2-1.43.59L10.3 9.45l-7.72 7.72c-.78.78-.78 2.05 0 2.83L4 21.41c.39.39.9.59 1.41.59.51 0 1.02-.2 1.41-.59l7.78-7.78 2.81-2.81c.8-.78.8-2.07 0-2.86zM5.41 20L4 18.59l7.72-7.72 1.47 1.35L5.41 20z\"/>\n",
              "  </svg>\n",
              "      </button>\n",
              "      \n",
              "  <style>\n",
              "    .colab-df-container {\n",
              "      display:flex;\n",
              "      flex-wrap:wrap;\n",
              "      gap: 12px;\n",
              "    }\n",
              "\n",
              "    .colab-df-convert {\n",
              "      background-color: #E8F0FE;\n",
              "      border: none;\n",
              "      border-radius: 50%;\n",
              "      cursor: pointer;\n",
              "      display: none;\n",
              "      fill: #1967D2;\n",
              "      height: 32px;\n",
              "      padding: 0 0 0 0;\n",
              "      width: 32px;\n",
              "    }\n",
              "\n",
              "    .colab-df-convert:hover {\n",
              "      background-color: #E2EBFA;\n",
              "      box-shadow: 0px 1px 2px rgba(60, 64, 67, 0.3), 0px 1px 3px 1px rgba(60, 64, 67, 0.15);\n",
              "      fill: #174EA6;\n",
              "    }\n",
              "\n",
              "    [theme=dark] .colab-df-convert {\n",
              "      background-color: #3B4455;\n",
              "      fill: #D2E3FC;\n",
              "    }\n",
              "\n",
              "    [theme=dark] .colab-df-convert:hover {\n",
              "      background-color: #434B5C;\n",
              "      box-shadow: 0px 1px 3px 1px rgba(0, 0, 0, 0.15);\n",
              "      filter: drop-shadow(0px 1px 2px rgba(0, 0, 0, 0.3));\n",
              "      fill: #FFFFFF;\n",
              "    }\n",
              "  </style>\n",
              "\n",
              "      <script>\n",
              "        const buttonEl =\n",
              "          document.querySelector('#df-53c3ca9d-2c7b-4802-91f7-d52aca0174fe button.colab-df-convert');\n",
              "        buttonEl.style.display =\n",
              "          google.colab.kernel.accessAllowed ? 'block' : 'none';\n",
              "\n",
              "        async function convertToInteractive(key) {\n",
              "          const element = document.querySelector('#df-53c3ca9d-2c7b-4802-91f7-d52aca0174fe');\n",
              "          const dataTable =\n",
              "            await google.colab.kernel.invokeFunction('convertToInteractive',\n",
              "                                                     [key], {});\n",
              "          if (!dataTable) return;\n",
              "\n",
              "          const docLinkHtml = 'Like what you see? Visit the ' +\n",
              "            '<a target=\"_blank\" href=https://colab.research.google.com/notebooks/data_table.ipynb>data table notebook</a>'\n",
              "            + ' to learn more about interactive tables.';\n",
              "          element.innerHTML = '';\n",
              "          dataTable['output_type'] = 'display_data';\n",
              "          await google.colab.output.renderOutput(dataTable, element);\n",
              "          const docLink = document.createElement('div');\n",
              "          docLink.innerHTML = docLinkHtml;\n",
              "          element.appendChild(docLink);\n",
              "        }\n",
              "      </script>\n",
              "    </div>\n",
              "  </div>\n",
              "  "
            ]
          },
          "metadata": {},
          "execution_count": 100
        }
      ]
    },
    {
      "cell_type": "code",
      "source": [
        "# data cleaning:\n",
        "\n",
        "df = df[df['NEXT_INSPECTION_GRADE_C_OR_BELOW'].isin([\"0\", \"1\"])]  \n",
        "df= df[(df['CURRENT_DEMERITS'] >= 0) & (df['CURRENT_DEMERITS'] < 40)]\n",
        "df = df[(df['EMPLOYEE_COUNT'] > 0) & (df['EMPLOYEE_COUNT'] < 100)]  \n",
        "df['INSPECTION_DEMERITS'] = df['INSPECTION_DEMERITS'].apply(lambda x: pd.to_numeric(x, errors='coerce'))\n",
        "df = df[(df['INSPECTION_DEMERITS'] >= 1) & (df['INSPECTION_DEMERITS'] < 60)]\n",
        "df['NUMBER_OF_VIOLATIONS'] = df['NUMBER_OF_VIOLATIONS'].apply(lambda x: pd.to_numeric(x, errors='coerce'))\n",
        "df['MEDIAN_EMPLOYEE_AGE'] = df['MEDIAN_EMPLOYEE_AGE'].apply(lambda x: pd.to_numeric(x, errors='coerce'))\n",
        "df = df[(df['MEDIAN_EMPLOYEE_AGE'] >= 10) & (df['MEDIAN_EMPLOYEE_AGE'] < 50)]\n",
        "df.dropna(axis = 0, inplace = True)"
      ],
      "metadata": {
        "colab": {
          "base_uri": "https://localhost:8080/",
          "height": 0
        },
        "id": "aHkRCq3waxKM",
        "outputId": "f6cc248d-c505-443e-95e1-4d7c52f5db6d"
      },
      "execution_count": 101,
      "outputs": [
        {
          "output_type": "stream",
          "name": "stderr",
          "text": [
            "/usr/local/lib/python3.7/dist-packages/pandas/util/_decorators.py:311: SettingWithCopyWarning: \n",
            "A value is trying to be set on a copy of a slice from a DataFrame\n",
            "\n",
            "See the caveats in the documentation: https://pandas.pydata.org/pandas-docs/stable/user_guide/indexing.html#returning-a-view-versus-a-copy\n",
            "  return func(*args, **kwargs)\n"
          ]
        }
      ]
    },
    {
      "cell_type": "markdown",
      "source": [
        "### **Edit dtypes**\n",
        "\n",
        "CURRENT_DEMERITS: int64 \\\n",
        "EMPLOYEE_COUNT:   int64 \\\n",
        "MEDIAN_EMPLOYEE_AGE: float64 \\\n",
        "FIRST_VIOLATION:   object  \\                \n",
        "SECOND_VIOLATION:  object  \\              \n",
        "THIRD_VIOLATION:   object  \\    \n",
        "NUMBER_OF_VIOLATIONS:  int64 \\                \n",
        "NEXT_INSPECTION_GRADE_C_OR_BELOW: int64\n"
      ],
      "metadata": {
        "id": "pnrOhacLn-mZ"
      }
    },
    {
      "cell_type": "code",
      "source": [
        "df = df.astype({'CURRENT_DEMERITS':'int64', 'EMPLOYEE_COUNT':'int64' , 'MEDIAN_EMPLOYEE_AGE':'float64' , 'NUMBER_OF_VIOLATIONS':'int64' , \n",
        "                       'NEXT_INSPECTION_GRADE_C_OR_BELOW':'int64' })\n",
        "\n"
      ],
      "metadata": {
        "id": "euPtWmErqdfn"
      },
      "execution_count": 102,
      "outputs": []
    },
    {
      "cell_type": "markdown",
      "source": [
        "## **Binning**"
      ],
      "metadata": {
        "id": "cKacAtaq8jIc"
      }
    },
    {
      "cell_type": "code",
      "source": [
        "bins_TENURE = [0.1, 3, 7, 17]\n",
        "df['MEDIAN_EMPLOYEE_TENURE'] = pd.cut(df['MEDIAN_EMPLOYEE_TENURE'], bins=bins_TENURE, labels = np.arange(3))\n",
        "bins_AGE = [18, 24, 30, 50]\n",
        "df['MEDIAN_EMPLOYEE_AGE'] = pd.cut(df['MEDIAN_EMPLOYEE_AGE'], bins=bins_AGE, labels = np.arange(3))"
      ],
      "metadata": {
        "id": "Holh03pd4Ajv"
      },
      "execution_count": 103,
      "outputs": []
    },
    {
      "cell_type": "code",
      "source": [
        "bins_EMP_COUNT = [3, 10, 20, 55]\n",
        "df['EMPLOYEE_COUNT'] = pd.cut(df['EMPLOYEE_COUNT'], bins=bins_EMP_COUNT, labels = np.arange(3))"
      ],
      "metadata": {
        "id": "_KwYvbRA8MBc"
      },
      "execution_count": 104,
      "outputs": []
    },
    {
      "cell_type": "code",
      "source": [
        "df['EMPLOYEE_COUNT'].describe()"
      ],
      "metadata": {
        "colab": {
          "base_uri": "https://localhost:8080/",
          "height": 0
        },
        "id": "tnIDUfPe7v2o",
        "outputId": "471276ac-9421-4c82-f860-bb7b575e26dc"
      },
      "execution_count": 105,
      "outputs": [
        {
          "output_type": "execute_result",
          "data": {
            "text/plain": [
              "count     12399\n",
              "unique        3\n",
              "top           1\n",
              "freq       5457\n",
              "Name: EMPLOYEE_COUNT, dtype: int64"
            ]
          },
          "metadata": {},
          "execution_count": 105
        }
      ]
    },
    {
      "cell_type": "markdown",
      "source": [
        "## **encoding**"
      ],
      "metadata": {
        "id": "Oqv_SbQb8rWc"
      }
    },
    {
      "cell_type": "code",
      "source": [
        "df.columns"
      ],
      "metadata": {
        "colab": {
          "base_uri": "https://localhost:8080/"
        },
        "id": "6xO585PQvxbY",
        "outputId": "d435aef1-b9f5-41cc-91cd-26e08f4ce4ed"
      },
      "execution_count": null,
      "outputs": [
        {
          "output_type": "execute_result",
          "data": {
            "text/plain": [
              "Index(['RESTAURANT_CATEGORY', 'CURRENT_DEMERITS', 'EMPLOYEE_COUNT',\n",
              "       'MEDIAN_EMPLOYEE_AGE', 'MEDIAN_EMPLOYEE_TENURE', 'INSPECTION_DEMERITS',\n",
              "       'NUMBER_OF_VIOLATIONS', 'NEXT_INSPECTION_GRADE_C_OR_BELOW'],\n",
              "      dtype='object')"
            ]
          },
          "metadata": {},
          "execution_count": 118
        }
      ]
    },
    {
      "cell_type": "code",
      "source": [
        "# Categorical feature encoding :\n",
        "cat_features_list = ['RESTAURANT_CATEGORY']\n",
        "df= pd.get_dummies(data=df, columns= cat_features_list , drop_first=True).dropna()"
      ],
      "metadata": {
        "id": "RXnXGOBdqYhr"
      },
      "execution_count": 106,
      "outputs": []
    },
    {
      "cell_type": "code",
      "source": [
        "df= df.dropna()\n",
        "df.isnull().values.any()"
      ],
      "metadata": {
        "colab": {
          "base_uri": "https://localhost:8080/",
          "height": 0
        },
        "id": "gtiZdIkB-nr2",
        "outputId": "504ea387-8509-452d-b67a-ab6ca4d121e3"
      },
      "execution_count": 107,
      "outputs": [
        {
          "output_type": "execute_result",
          "data": {
            "text/plain": [
              "False"
            ]
          },
          "metadata": {},
          "execution_count": 107
        }
      ]
    },
    {
      "cell_type": "code",
      "source": [
        "# separate train features from labels.\n",
        "\n",
        "df_train = df.drop(['NEXT_INSPECTION_GRADE_C_OR_BELOW'], axis = 1)\n",
        "label = df[['NEXT_INSPECTION_GRADE_C_OR_BELOW']]\n",
        "print('training set size:', df_train.shape)\n",
        "print('Label size:', label.shape)"
      ],
      "metadata": {
        "colab": {
          "base_uri": "https://localhost:8080/",
          "height": 0
        },
        "id": "gs6kGkvaFHYU",
        "outputId": "6a3eed76-9309-41b0-9579-754a0086b116"
      },
      "execution_count": 139,
      "outputs": [
        {
          "output_type": "stream",
          "name": "stdout",
          "text": [
            "training set size: (12120, 39)\n",
            "Label size: (12120, 1)\n"
          ]
        }
      ]
    },
    {
      "cell_type": "markdown",
      "source": [
        "## **Handeling imbalance data**:"
      ],
      "metadata": {
        "id": "DyvnR68L-_st"
      }
    },
    {
      "cell_type": "markdown",
      "source": [
        "### Under Sampler:"
      ],
      "metadata": {
        "id": "zLT132LNHGcB"
      }
    },
    {
      "cell_type": "code",
      "source": [
        "# Import required library for resampling\n",
        "\n",
        "undersampling = True\n",
        "\n",
        "if undersampling:\n",
        "    from imblearn.under_sampling import RandomUnderSampler\n",
        "    from sklearn.utils import shuffle\n",
        "    from imblearn.under_sampling import ClusterCentroids\n",
        "    from sklearn.model_selection import train_test_split, GridSearchCV\n",
        "\n",
        "    # Instantiate Random Under Sampler\n",
        "    rus = RandomUnderSampler(random_state=42)\n",
        "\n",
        "    # Perform random under sampling\n",
        "    df_data, df_target = rus.fit_resample(df_train, label)\n",
        "\n",
        "    df_concat = pd.concat([df_data, df_target], axis= 1).dropna()\n",
        "\n",
        "    df_concat = shuffle(df_concat)\n",
        "\n",
        "    df_data = df_concat.drop(['NEXT_INSPECTION_GRADE_C_OR_BELOW'], axis = 1)\n",
        "    df_target = df_concat[['NEXT_INSPECTION_GRADE_C_OR_BELOW']]\n",
        "\n",
        "\n",
        "    df_train, df_test, df_target_train, df_target_test = train_test_split(df_data, df_target, test_size = 0.2, random_state = 18, shuffle=True)\n",
        "\n",
        "    # df_train= df_data.iloc[:-1500]\n",
        "    # df_target_train = df_target.iloc[:-1500]    \n",
        "    # df_test= df_data.iloc[-1500:]\n",
        "    # df_target_test = df_target.iloc[-1500:]\n",
        "\n",
        "    print('training set size:', df_data.shape)\n",
        "    print('Label size:', df_target.shape)\n",
        "    print(df_data.tail())\n",
        "    # Visualize new classes distributions\n",
        "    sns.countplot(data = df_target, x = 'NEXT_INSPECTION_GRADE_C_OR_BELOW')\n",
        "    plt.show()\n",
        "\n",
        "else: \n",
        "    df_data = df_train\n",
        "    df_target = label\n",
        "    # Visualize new classes distributions\n",
        "    sns.countplot(data = df_target, x = 'NEXT_INSPECTION_GRADE_C_OR_BELOW')\n",
        "    plt.show()\n"
      ],
      "metadata": {
        "colab": {
          "base_uri": "https://localhost:8080/",
          "height": 1668
        },
        "id": "NtaOG_dzAHpA",
        "outputId": "374d328b-e51a-4de8-c4eb-8a4909c90b48"
      },
      "execution_count": 140,
      "outputs": [
        {
          "output_type": "stream",
          "name": "stdout",
          "text": [
            "training set size: (4158, 39)\n",
            "Label size: (4158, 1)\n",
            "      CURRENT_DEMERITS EMPLOYEE_COUNT MEDIAN_EMPLOYEE_AGE  \\\n",
            "3879                 3              2                   0   \n",
            "957                  8              0                   1   \n",
            "244                  9              0                   1   \n",
            "563                  0              2                   1   \n",
            "729                  0              1                   1   \n",
            "\n",
            "     MEDIAN_EMPLOYEE_TENURE  INSPECTION_DEMERITS  NUMBER_OF_VIOLATIONS  \\\n",
            "3879                      1                 27.0                     9   \n",
            "957                       1                 20.0                    11   \n",
            "244                       1                 20.0                     9   \n",
            "563                       1                  9.0                     5   \n",
            "729                       0                 27.0                    10   \n",
            "\n",
            "      RESTAURANT_CATEGORY_Banquet Kitchen  \\\n",
            "3879                                    0   \n",
            "957                                     0   \n",
            "244                                     0   \n",
            "563                                     1   \n",
            "729                                     0   \n",
            "\n",
            "      RESTAURANT_CATEGORY_Banquet Support  RESTAURANT_CATEGORY_Bar / TaVen  \\\n",
            "3879                                    0                                0   \n",
            "957                                     0                                0   \n",
            "244                                     0                                0   \n",
            "563                                     0                                0   \n",
            "729                                     0                                0   \n",
            "\n",
            "      RESTAURANT_CATEGORY_Bar / Tavern  ...  \\\n",
            "3879                                 0  ...   \n",
            "957                                  0  ...   \n",
            "244                                  0  ...   \n",
            "563                                  0  ...   \n",
            "729                                  0  ...   \n",
            "\n",
            "      RESTAURANT_CATEGORY_Meat/Poultry/Seafood  RESTAURANT_CATEGORY_Pantry  \\\n",
            "3879                                         0                           0   \n",
            "957                                          0                           0   \n",
            "244                                          0                           0   \n",
            "563                                          0                           0   \n",
            "729                                          0                           0   \n",
            "\n",
            "      RESTAURANT_CATEGORY_Portable Bar  RESTAURANT_CATEGORY_Portable Unit  \\\n",
            "3879                                 0                                  0   \n",
            "957                                  0                                  0   \n",
            "244                                  0                                  0   \n",
            "563                                  0                                  0   \n",
            "729                                  0                                  0   \n",
            "\n",
            "      RESTAURANT_CATEGORY_Produce Market  RESTAURANT_CATEGORY_Restaurant  \\\n",
            "3879                                   0                               1   \n",
            "957                                    0                               1   \n",
            "244                                    0                               1   \n",
            "563                                    0                               0   \n",
            "729                                    0                               1   \n",
            "\n",
            "      RESTAURANT_CATEGORY_Self-Service Food Truck  \\\n",
            "3879                                            0   \n",
            "957                                             0   \n",
            "244                                             0   \n",
            "563                                             0   \n",
            "729                                             0   \n",
            "\n",
            "      RESTAURANT_CATEGORY_Snack Bar  RESTAURANT_CATEGORY_Special Kitchen  \\\n",
            "3879                              0                                    0   \n",
            "957                               0                                    0   \n",
            "244                               0                                    0   \n",
            "563                               0                                    0   \n",
            "729                               0                                    0   \n",
            "\n",
            "      RESTAURANT_CATEGORY_Vegetable Prep  \n",
            "3879                                   0  \n",
            "957                                    0  \n",
            "244                                    0  \n",
            "563                                    0  \n",
            "729                                    0  \n",
            "\n",
            "[5 rows x 39 columns]\n"
          ]
        },
        {
          "output_type": "display_data",
          "data": {
            "text/plain": [
              "<Figure size 432x288 with 1 Axes>"
            ],
            "image/png": "[encoded data removed]"
          },
          "metadata": {
            "needs_background": "light"
          }
        }
      ]
    },
    {
      "cell_type": "markdown",
      "source": [
        "### Over Sampler: (if needed)"
      ],
      "metadata": {
        "id": "UypRNzliHQXI"
      }
    },
    {
      "cell_type": "markdown",
      "source": [
        "## Model"
      ],
      "metadata": {
        "id": "La1asXrLTzdy"
      }
    },
    {
      "cell_type": "code",
      "source": [
        "######################### Modelling\n",
        "# Import required library for modeling\n",
        "from sklearn.metrics import accuracy_score, log_loss\n",
        "from sklearn.neighbors import KNeighborsClassifier\n",
        "from sklearn.svm import SVC\n",
        "from sklearn.ensemble import RandomForestClassifier\n",
        "from sklearn.neural_network import MLPClassifier\n",
        "from sklearn.linear_model import LogisticRegression\n",
        "from sklearn.metrics import classification_report,confusion_matrix\n",
        "\n",
        "import xgboost"
      ],
      "metadata": {
        "id": "dY1jL6mDT3uA"
      },
      "execution_count": 141,
      "outputs": []
    },
    {
      "cell_type": "code",
      "source": [
        "# Evaluating different classifiers\n",
        "classifiers = [\n",
        "    KNeighborsClassifier(3),\n",
        "    SVC(kernel=\"rbf\", C=0.025, probability=True),\n",
        "    RandomForestClassifier(),\n",
        "    MLPClassifier(hidden_layer_sizes=(64,64,64), activation='relu', solver='adam', max_iter=500),\n",
        "    LogisticRegression(random_state=0, class_weight='balanced')    \n",
        "    ]\n"
      ],
      "metadata": {
        "id": "mfRytVTeUEeR"
      },
      "execution_count": 142,
      "outputs": []
    },
    {
      "cell_type": "code",
      "source": [
        "# Logging for Visual Comparison\n",
        "log_cols=[\"Classifier\", \"Accuracy\", \"Log Loss\"]\n",
        "log = pd.DataFrame(columns=log_cols)\n",
        " "
      ],
      "metadata": {
        "id": "aDOrNsFcUN4H"
      },
      "execution_count": 143,
      "outputs": []
    },
    {
      "cell_type": "code",
      "source": [
        "for clf in classifiers:\n",
        "    clf.fit(df_train, df_target_train)\n",
        "    name = clf.__class__.__name__\n",
        "    \n",
        "    print(\"=\"*30)\n",
        "    print(name)\n",
        "    \n",
        "    print('****Results****')\n",
        "    train_predictions = clf.predict(df_train)\n",
        "    acc = accuracy_score(df_target_train, train_predictions)\n",
        "    print(\"Accuracy: {:.4%}\".format(acc))\n",
        "    \n",
        "    print(confusion_matrix(df_target_train, train_predictions))\n",
        "    print(classification_report(df_target_train,train_predictions))\n",
        "    \n",
        "    train_predictions = clf.predict_proba(df_train)\n",
        "    ll = log_loss(df_target_train, train_predictions)\n",
        "    print(\"Log Loss: {}\".format(ll))\n",
        "    \n",
        "    log_entry = pd.DataFrame([[name, acc*100, ll]], columns=log_cols)\n",
        "    log = log.append(log_entry)\n",
        "   \n",
        "print(\"=\"*30)"
      ],
      "metadata": {
        "colab": {
          "base_uri": "https://localhost:8080/",
          "height": 0
        },
        "id": "Lc2b4h8RUO2h",
        "outputId": "c023b40b-930f-4a22-b9dd-7525476a5f20"
      },
      "execution_count": 144,
      "outputs": [
        {
          "output_type": "stream",
          "name": "stderr",
          "text": [
            "/usr/local/lib/python3.7/dist-packages/sklearn/neighbors/_classification.py:198: DataConversionWarning: A column-vector y was passed when a 1d array was expected. Please change the shape of y to (n_samples,), for example using ravel().\n",
            "  return self._fit(X, y)\n"
          ]
        },
        {
          "output_type": "stream",
          "name": "stdout",
          "text": [
            "==============================\n",
            "KNeighborsClassifier\n",
            "****Results****\n",
            "Accuracy: 74.3836%\n",
            "[[1182  462]\n",
            " [ 390 1292]]\n",
            "              precision    recall  f1-score   support\n",
            "\n",
            "           0       0.75      0.72      0.74      1644\n",
            "           1       0.74      0.77      0.75      1682\n",
            "\n",
            "    accuracy                           0.74      3326\n",
            "   macro avg       0.74      0.74      0.74      3326\n",
            "weighted avg       0.74      0.74      0.74      3326\n",
            "\n",
            "Log Loss: 0.521935507814767\n"
          ]
        },
        {
          "output_type": "stream",
          "name": "stderr",
          "text": [
            "/usr/local/lib/python3.7/dist-packages/sklearn/utils/validation.py:993: DataConversionWarning: A column-vector y was passed when a 1d array was expected. Please change the shape of y to (n_samples, ), for example using ravel().\n",
            "  y = column_or_1d(y, warn=True)\n"
          ]
        },
        {
          "output_type": "stream",
          "name": "stdout",
          "text": [
            "==============================\n",
            "SVC\n",
            "****Results****\n",
            "Accuracy: 54.0890%\n",
            "[[1130  514]\n",
            " [1013  669]]\n",
            "              precision    recall  f1-score   support\n",
            "\n",
            "           0       0.53      0.69      0.60      1644\n",
            "           1       0.57      0.40      0.47      1682\n",
            "\n",
            "    accuracy                           0.54      3326\n",
            "   macro avg       0.55      0.54      0.53      3326\n",
            "weighted avg       0.55      0.54      0.53      3326\n",
            "\n",
            "Log Loss: 0.6874478967926805\n"
          ]
        },
        {
          "output_type": "stream",
          "name": "stderr",
          "text": [
            "/usr/local/lib/python3.7/dist-packages/ipykernel_launcher.py:2: DataConversionWarning: A column-vector y was passed when a 1d array was expected. Please change the shape of y to (n_samples,), for example using ravel().\n",
            "  \n"
          ]
        },
        {
          "output_type": "stream",
          "name": "stdout",
          "text": [
            "==============================\n",
            "RandomForestClassifier\n",
            "****Results****\n",
            "Accuracy: 94.4979%\n",
            "[[1557   87]\n",
            " [  96 1586]]\n",
            "              precision    recall  f1-score   support\n",
            "\n",
            "           0       0.94      0.95      0.94      1644\n",
            "           1       0.95      0.94      0.95      1682\n",
            "\n",
            "    accuracy                           0.94      3326\n",
            "   macro avg       0.94      0.95      0.94      3326\n",
            "weighted avg       0.94      0.94      0.94      3326\n",
            "\n",
            "Log Loss: 0.25119613583371686\n"
          ]
        },
        {
          "output_type": "stream",
          "name": "stderr",
          "text": [
            "/usr/local/lib/python3.7/dist-packages/sklearn/neural_network/_multilayer_perceptron.py:1109: DataConversionWarning: A column-vector y was passed when a 1d array was expected. Please change the shape of y to (n_samples, ), for example using ravel().\n",
            "  y = column_or_1d(y, warn=True)\n"
          ]
        },
        {
          "output_type": "stream",
          "name": "stdout",
          "text": [
            "==============================\n",
            "MLPClassifier\n",
            "****Results****\n",
            "Accuracy: 75.8268%\n",
            "[[1017  627]\n",
            " [ 177 1505]]\n",
            "              precision    recall  f1-score   support\n",
            "\n",
            "           0       0.85      0.62      0.72      1644\n",
            "           1       0.71      0.89      0.79      1682\n",
            "\n",
            "    accuracy                           0.76      3326\n",
            "   macro avg       0.78      0.76      0.75      3326\n",
            "weighted avg       0.78      0.76      0.75      3326\n",
            "\n",
            "Log Loss: 0.4612280609275712\n"
          ]
        },
        {
          "output_type": "stream",
          "name": "stderr",
          "text": [
            "/usr/local/lib/python3.7/dist-packages/sklearn/utils/validation.py:993: DataConversionWarning: A column-vector y was passed when a 1d array was expected. Please change the shape of y to (n_samples, ), for example using ravel().\n",
            "  y = column_or_1d(y, warn=True)\n"
          ]
        },
        {
          "output_type": "stream",
          "name": "stdout",
          "text": [
            "==============================\n",
            "LogisticRegression\n",
            "****Results****\n",
            "Accuracy: 56.1335%\n",
            "[[943 701]\n",
            " [758 924]]\n",
            "              precision    recall  f1-score   support\n",
            "\n",
            "           0       0.55      0.57      0.56      1644\n",
            "           1       0.57      0.55      0.56      1682\n",
            "\n",
            "    accuracy                           0.56      3326\n",
            "   macro avg       0.56      0.56      0.56      3326\n",
            "weighted avg       0.56      0.56      0.56      3326\n",
            "\n",
            "Log Loss: 0.6790224800698434\n",
            "==============================\n"
          ]
        },
        {
          "output_type": "stream",
          "name": "stderr",
          "text": [
            "/usr/local/lib/python3.7/dist-packages/sklearn/linear_model/_logistic.py:818: ConvergenceWarning: lbfgs failed to converge (status=1):\n",
            "STOP: TOTAL NO. of ITERATIONS REACHED LIMIT.\n",
            "\n",
            "Increase the number of iterations (max_iter) or scale the data as shown in:\n",
            "    https://scikit-learn.org/stable/modules/preprocessing.html\n",
            "Please also refer to the documentation for alternative solver options:\n",
            "    https://scikit-learn.org/stable/modules/linear_model.html#logistic-regression\n",
            "  extra_warning_msg=_LOGISTIC_SOLVER_CONVERGENCE_MSG,\n"
          ]
        }
      ]
    },
    {
      "cell_type": "code",
      "source": [
        "for clf in classifiers:\n",
        "    # clf.fit(df_test, df_target_test)\n",
        "    name = clf.__class__.__name__\n",
        "    \n",
        "    print(\"=\"*30)\n",
        "    print(name)\n",
        "    \n",
        "    print('****Results****')\n",
        "    train_predictions = clf.predict(df_test)\n",
        "    acc = accuracy_score(df_target_test, train_predictions)\n",
        "    print(\"Accuracy: {:.4%}\".format(acc))\n",
        "    \n",
        "    print(confusion_matrix(df_target_test, train_predictions))\n",
        "    print(classification_report(df_target_test,train_predictions))\n",
        "    \n",
        "    train_predictions = clf.predict_proba(df_test)\n",
        "    ll = log_loss(df_target_test, train_predictions)\n",
        "    print(\"Log Loss: {}\".format(ll))\n",
        "    \n",
        "    # log_entry = pd.DataFrame([[name, acc*100, ll]], columns=log_cols)\n",
        "    # log = log.append(log_entry)\n",
        "   \n",
        "print(\"=\"*30)"
      ],
      "metadata": {
        "colab": {
          "base_uri": "https://localhost:8080/",
          "height": 0
        },
        "id": "ywqrdoy_T2oh",
        "outputId": "b37286f2-ee5d-4e52-bcbb-bd9e9fd83ab4"
      },
      "execution_count": 145,
      "outputs": [
        {
          "output_type": "stream",
          "name": "stdout",
          "text": [
            "==============================\n",
            "KNeighborsClassifier\n",
            "****Results****\n",
            "Accuracy: 51.5625%\n",
            "[[216 219]\n",
            " [184 213]]\n",
            "              precision    recall  f1-score   support\n",
            "\n",
            "           0       0.54      0.50      0.52       435\n",
            "           1       0.49      0.54      0.51       397\n",
            "\n",
            "    accuracy                           0.52       832\n",
            "   macro avg       0.52      0.52      0.52       832\n",
            "weighted avg       0.52      0.52      0.52       832\n",
            "\n",
            "Log Loss: 4.385311562012102\n",
            "==============================\n",
            "SVC\n",
            "****Results****\n",
            "Accuracy: 54.4471%\n",
            "[[292 143]\n",
            " [236 161]]\n",
            "              precision    recall  f1-score   support\n",
            "\n",
            "           0       0.55      0.67      0.61       435\n",
            "           1       0.53      0.41      0.46       397\n",
            "\n",
            "    accuracy                           0.54       832\n",
            "   macro avg       0.54      0.54      0.53       832\n",
            "weighted avg       0.54      0.54      0.54       832\n",
            "\n",
            "Log Loss: 0.6902010584029568\n",
            "==============================\n",
            "RandomForestClassifier\n",
            "****Results****\n",
            "Accuracy: 49.3990%\n",
            "[[222 213]\n",
            " [208 189]]\n",
            "              precision    recall  f1-score   support\n",
            "\n",
            "           0       0.52      0.51      0.51       435\n",
            "           1       0.47      0.48      0.47       397\n",
            "\n",
            "    accuracy                           0.49       832\n",
            "   macro avg       0.49      0.49      0.49       832\n",
            "weighted avg       0.49      0.49      0.49       832\n",
            "\n",
            "Log Loss: 0.8099424676455892\n",
            "==============================\n",
            "MLPClassifier\n",
            "****Results****\n",
            "Accuracy: 49.6394%\n",
            "[[156 279]\n",
            " [140 257]]\n",
            "              precision    recall  f1-score   support\n",
            "\n",
            "           0       0.53      0.36      0.43       435\n",
            "           1       0.48      0.65      0.55       397\n",
            "\n",
            "    accuracy                           0.50       832\n",
            "   macro avg       0.50      0.50      0.49       832\n",
            "weighted avg       0.50      0.50      0.49       832\n",
            "\n",
            "Log Loss: 1.2386343862779183\n",
            "==============================\n",
            "LogisticRegression\n",
            "****Results****\n",
            "Accuracy: 52.1635%\n",
            "[[234 201]\n",
            " [197 200]]\n",
            "              precision    recall  f1-score   support\n",
            "\n",
            "           0       0.54      0.54      0.54       435\n",
            "           1       0.50      0.50      0.50       397\n",
            "\n",
            "    accuracy                           0.52       832\n",
            "   macro avg       0.52      0.52      0.52       832\n",
            "weighted avg       0.52      0.52      0.52       832\n",
            "\n",
            "Log Loss: 0.6964075172672376\n",
            "==============================\n"
          ]
        }
      ]
    },
    {
      "cell_type": "code",
      "source": [
        "clf.feature_importances_"
      ],
      "metadata": {
        "colab": {
          "base_uri": "https://localhost:8080/"
        },
        "id": "nLZQzLpkQUo7",
        "outputId": "629b10bc-a87d-422b-abc3-d4f30af805e1"
      },
      "execution_count": null,
      "outputs": [
        {
          "output_type": "execute_result",
          "data": {
            "text/plain": [
              "array([2.21540854e-01, 8.48339004e-02, 8.28131932e-02, 6.80114502e-02,\n",
              "       2.87847120e-01, 1.68013304e-01, 1.91733604e-03, 5.73691876e-04,\n",
              "       1.91626516e-04, 1.18682332e-02, 6.66218277e-04, 1.87925610e-04,\n",
              "       0.00000000e+00, 4.70024227e-03, 2.21883131e-03, 4.70983800e-04,\n",
              "       8.05623831e-04, 2.16236945e-03, 2.00141591e-04, 1.84852319e-04,\n",
              "       3.83037784e-03, 1.13341857e-03, 9.95900529e-04, 0.00000000e+00,\n",
              "       9.89436845e-04, 7.40176571e-04, 2.12269867e-04, 1.70660328e-03,\n",
              "       9.07319028e-04, 4.18866856e-03, 3.82704542e-03, 7.14890425e-04,\n",
              "       5.15921305e-03, 7.20529788e-04, 1.37253836e-02, 2.76457867e-04,\n",
              "       9.43685070e-03, 1.06297368e-02, 1.59782333e-03])"
            ]
          },
          "metadata": {},
          "execution_count": 127
        }
      ]
    },
    {
      "cell_type": "code",
      "source": [
        "#Build a graphical visualisation of feature importance:\n",
        "import matplotlib.pyplot as plt\n",
        "from matplotlib.pyplot import figure\n",
        "\n",
        "plt.figure(figsize=(10,10))\n",
        "plt.plot(clf.feature_importances_, 'o')\n",
        "plt.xticks(range(df_train.shape[1]), df_train.columns, rotation=90)\n",
        "plt.ylim(0, 0.5)"
      ],
      "metadata": {
        "colab": {
          "base_uri": "https://localhost:8080/",
          "height": 870
        },
        "id": "4dZ76uPvR04y",
        "outputId": "3a157cc2-0b6d-4f5a-eecd-56ae99a81e6f"
      },
      "execution_count": null,
      "outputs": [
        {
          "output_type": "execute_result",
          "data": {
            "text/plain": [
              "(0.0, 0.5)"
            ]
          },
          "metadata": {},
          "execution_count": 137
        },
        {
          "output_type": "display_data",
          "data": {
            "text/plain": [
              "<Figure size 720x720 with 1 Axes>"
            ],
            "image/png": "[encoded data removed]"
          },
          "metadata": {
            "needs_background": "light"
          }
        }
      ]
    },
    {
      "cell_type": "markdown",
      "source": [
        "### cross-validation & GridSearch"
      ],
      "metadata": {
        "id": "p--gl3TuJIJc"
      }
    },
    {
      "cell_type": "code",
      "source": [
        "grid = { \n",
        "    'n_estimators': [300,400,500],\n",
        "    'max_features': ['sqrt', 'log2'],\n",
        "    'max_depth' : [35, 50, 60],\n",
        "    'criterion' :['gini', 'entropy'],\n",
        "    'random_state' : [18]\n",
        "}"
      ],
      "metadata": {
        "id": "yGIx6xWgJmgX"
      },
      "execution_count": null,
      "outputs": []
    },
    {
      "cell_type": "code",
      "source": [
        "rf_cv = GridSearchCV(estimator=RandomForestClassifier(), param_grid=grid, cv= 5, scoring='recall')\n",
        "rf_cv.fit(df_train, df_target_train)\n",
        "\n",
        "rf_cv.best_params_\n"
      ],
      "metadata": {
        "colab": {
          "base_uri": "https://localhost:8080/"
        },
        "id": "JDy_ZNgrJ3ce",
        "outputId": "9ae81d8a-8493-47fa-9bd7-bd64e8935c61"
      },
      "execution_count": null,
      "outputs": [
        {
          "output_type": "stream",
          "name": "stderr",
          "text": [
            "/usr/local/lib/python3.7/dist-packages/sklearn/model_selection/_validation.py:680: DataConversionWarning: A column-vector y was passed when a 1d array was expected. Please change the shape of y to (n_samples,), for example using ravel().\n",
            "  estimator.fit(X_train, y_train, **fit_params)\n",
            "/usr/local/lib/python3.7/dist-packages/sklearn/model_selection/_validation.py:680: DataConversionWarning: A column-vector y was passed when a 1d array was expected. Please change the shape of y to (n_samples,), for example using ravel().\n",
            "  estimator.fit(X_train, y_train, **fit_params)\n",
            "/usr/local/lib/python3.7/dist-packages/sklearn/model_selection/_validation.py:680: DataConversionWarning: A column-vector y was passed when a 1d array was expected. Please change the shape of y to (n_samples,), for example using ravel().\n",
            "  estimator.fit(X_train, y_train, **fit_params)\n",
            "/usr/local/lib/python3.7/dist-packages/sklearn/model_selection/_validation.py:680: DataConversionWarning: A column-vector y was passed when a 1d array was expected. Please change the shape of y to (n_samples,), for example using ravel().\n",
            "  estimator.fit(X_train, y_train, **fit_params)\n",
            "/usr/local/lib/python3.7/dist-packages/sklearn/model_selection/_validation.py:680: DataConversionWarning: A column-vector y was passed when a 1d array was expected. Please change the shape of y to (n_samples,), for example using ravel().\n",
            "  estimator.fit(X_train, y_train, **fit_params)\n",
            "/usr/local/lib/python3.7/dist-packages/sklearn/model_selection/_validation.py:680: DataConversionWarning: A column-vector y was passed when a 1d array was expected. Please change the shape of y to (n_samples,), for example using ravel().\n",
            "  estimator.fit(X_train, y_train, **fit_params)\n",
            "/usr/local/lib/python3.7/dist-packages/sklearn/model_selection/_validation.py:680: DataConversionWarning: A column-vector y was passed when a 1d array was expected. Please change the shape of y to (n_samples,), for example using ravel().\n",
            "  estimator.fit(X_train, y_train, **fit_params)\n",
            "/usr/local/lib/python3.7/dist-packages/sklearn/model_selection/_validation.py:680: DataConversionWarning: A column-vector y was passed when a 1d array was expected. Please change the shape of y to (n_samples,), for example using ravel().\n",
            "  estimator.fit(X_train, y_train, **fit_params)\n",
            "/usr/local/lib/python3.7/dist-packages/sklearn/model_selection/_validation.py:680: DataConversionWarning: A column-vector y was passed when a 1d array was expected. Please change the shape of y to (n_samples,), for example using ravel().\n",
            "  estimator.fit(X_train, y_train, **fit_params)\n",
            "/usr/local/lib/python3.7/dist-packages/sklearn/model_selection/_validation.py:680: DataConversionWarning: A column-vector y was passed when a 1d array was expected. Please change the shape of y to (n_samples,), for example using ravel().\n",
            "  estimator.fit(X_train, y_train, **fit_params)\n",
            "/usr/local/lib/python3.7/dist-packages/sklearn/model_selection/_validation.py:680: DataConversionWarning: A column-vector y was passed when a 1d array was expected. Please change the shape of y to (n_samples,), for example using ravel().\n",
            "  estimator.fit(X_train, y_train, **fit_params)\n",
            "/usr/local/lib/python3.7/dist-packages/sklearn/model_selection/_validation.py:680: DataConversionWarning: A column-vector y was passed when a 1d array was expected. Please change the shape of y to (n_samples,), for example using ravel().\n",
            "  estimator.fit(X_train, y_train, **fit_params)\n",
            "/usr/local/lib/python3.7/dist-packages/sklearn/model_selection/_validation.py:680: DataConversionWarning: A column-vector y was passed when a 1d array was expected. Please change the shape of y to (n_samples,), for example using ravel().\n",
            "  estimator.fit(X_train, y_train, **fit_params)\n",
            "/usr/local/lib/python3.7/dist-packages/sklearn/model_selection/_validation.py:680: DataConversionWarning: A column-vector y was passed when a 1d array was expected. Please change the shape of y to (n_samples,), for example using ravel().\n",
            "  estimator.fit(X_train, y_train, **fit_params)\n",
            "/usr/local/lib/python3.7/dist-packages/sklearn/model_selection/_validation.py:680: DataConversionWarning: A column-vector y was passed when a 1d array was expected. Please change the shape of y to (n_samples,), for example using ravel().\n",
            "  estimator.fit(X_train, y_train, **fit_params)\n",
            "/usr/local/lib/python3.7/dist-packages/sklearn/model_selection/_validation.py:680: DataConversionWarning: A column-vector y was passed when a 1d array was expected. Please change the shape of y to (n_samples,), for example using ravel().\n",
            "  estimator.fit(X_train, y_train, **fit_params)\n",
            "/usr/local/lib/python3.7/dist-packages/sklearn/model_selection/_validation.py:680: DataConversionWarning: A column-vector y was passed when a 1d array was expected. Please change the shape of y to (n_samples,), for example using ravel().\n",
            "  estimator.fit(X_train, y_train, **fit_params)\n",
            "/usr/local/lib/python3.7/dist-packages/sklearn/model_selection/_validation.py:680: DataConversionWarning: A column-vector y was passed when a 1d array was expected. Please change the shape of y to (n_samples,), for example using ravel().\n",
            "  estimator.fit(X_train, y_train, **fit_params)\n",
            "/usr/local/lib/python3.7/dist-packages/sklearn/model_selection/_validation.py:680: DataConversionWarning: A column-vector y was passed when a 1d array was expected. Please change the shape of y to (n_samples,), for example using ravel().\n",
            "  estimator.fit(X_train, y_train, **fit_params)\n",
            "/usr/local/lib/python3.7/dist-packages/sklearn/model_selection/_validation.py:680: DataConversionWarning: A column-vector y was passed when a 1d array was expected. Please change the shape of y to (n_samples,), for example using ravel().\n",
            "  estimator.fit(X_train, y_train, **fit_params)\n",
            "/usr/local/lib/python3.7/dist-packages/sklearn/model_selection/_validation.py:680: DataConversionWarning: A column-vector y was passed when a 1d array was expected. Please change the shape of y to (n_samples,), for example using ravel().\n",
            "  estimator.fit(X_train, y_train, **fit_params)\n",
            "/usr/local/lib/python3.7/dist-packages/sklearn/model_selection/_validation.py:680: DataConversionWarning: A column-vector y was passed when a 1d array was expected. Please change the shape of y to (n_samples,), for example using ravel().\n",
            "  estimator.fit(X_train, y_train, **fit_params)\n",
            "/usr/local/lib/python3.7/dist-packages/sklearn/model_selection/_validation.py:680: DataConversionWarning: A column-vector y was passed when a 1d array was expected. Please change the shape of y to (n_samples,), for example using ravel().\n",
            "  estimator.fit(X_train, y_train, **fit_params)\n",
            "/usr/local/lib/python3.7/dist-packages/sklearn/model_selection/_validation.py:680: DataConversionWarning: A column-vector y was passed when a 1d array was expected. Please change the shape of y to (n_samples,), for example using ravel().\n",
            "  estimator.fit(X_train, y_train, **fit_params)\n",
            "/usr/local/lib/python3.7/dist-packages/sklearn/model_selection/_validation.py:680: DataConversionWarning: A column-vector y was passed when a 1d array was expected. Please change the shape of y to (n_samples,), for example using ravel().\n",
            "  estimator.fit(X_train, y_train, **fit_params)\n",
            "/usr/local/lib/python3.7/dist-packages/sklearn/model_selection/_validation.py:680: DataConversionWarning: A column-vector y was passed when a 1d array was expected. Please change the shape of y to (n_samples,), for example using ravel().\n",
            "  estimator.fit(X_train, y_train, **fit_params)\n",
            "/usr/local/lib/python3.7/dist-packages/sklearn/model_selection/_validation.py:680: DataConversionWarning: A column-vector y was passed when a 1d array was expected. Please change the shape of y to (n_samples,), for example using ravel().\n",
            "  estimator.fit(X_train, y_train, **fit_params)\n",
            "/usr/local/lib/python3.7/dist-packages/sklearn/model_selection/_validation.py:680: DataConversionWarning: A column-vector y was passed when a 1d array was expected. Please change the shape of y to (n_samples,), for example using ravel().\n",
            "  estimator.fit(X_train, y_train, **fit_params)\n",
            "/usr/local/lib/python3.7/dist-packages/sklearn/model_selection/_validation.py:680: DataConversionWarning: A column-vector y was passed when a 1d array was expected. Please change the shape of y to (n_samples,), for example using ravel().\n",
            "  estimator.fit(X_train, y_train, **fit_params)\n",
            "/usr/local/lib/python3.7/dist-packages/sklearn/model_selection/_validation.py:680: DataConversionWarning: A column-vector y was passed when a 1d array was expected. Please change the shape of y to (n_samples,), for example using ravel().\n",
            "  estimator.fit(X_train, y_train, **fit_params)\n",
            "/usr/local/lib/python3.7/dist-packages/sklearn/model_selection/_validation.py:680: DataConversionWarning: A column-vector y was passed when a 1d array was expected. Please change the shape of y to (n_samples,), for example using ravel().\n",
            "  estimator.fit(X_train, y_train, **fit_params)\n",
            "/usr/local/lib/python3.7/dist-packages/sklearn/model_selection/_validation.py:680: DataConversionWarning: A column-vector y was passed when a 1d array was expected. Please change the shape of y to (n_samples,), for example using ravel().\n",
            "  estimator.fit(X_train, y_train, **fit_params)\n",
            "/usr/local/lib/python3.7/dist-packages/sklearn/model_selection/_validation.py:680: DataConversionWarning: A column-vector y was passed when a 1d array was expected. Please change the shape of y to (n_samples,), for example using ravel().\n",
            "  estimator.fit(X_train, y_train, **fit_params)\n",
            "/usr/local/lib/python3.7/dist-packages/sklearn/model_selection/_validation.py:680: DataConversionWarning: A column-vector y was passed when a 1d array was expected. Please change the shape of y to (n_samples,), for example using ravel().\n",
            "  estimator.fit(X_train, y_train, **fit_params)\n",
            "/usr/local/lib/python3.7/dist-packages/sklearn/model_selection/_validation.py:680: DataConversionWarning: A column-vector y was passed when a 1d array was expected. Please change the shape of y to (n_samples,), for example using ravel().\n",
            "  estimator.fit(X_train, y_train, **fit_params)\n",
            "/usr/local/lib/python3.7/dist-packages/sklearn/model_selection/_validation.py:680: DataConversionWarning: A column-vector y was passed when a 1d array was expected. Please change the shape of y to (n_samples,), for example using ravel().\n",
            "  estimator.fit(X_train, y_train, **fit_params)\n",
            "/usr/local/lib/python3.7/dist-packages/sklearn/model_selection/_validation.py:680: DataConversionWarning: A column-vector y was passed when a 1d array was expected. Please change the shape of y to (n_samples,), for example using ravel().\n",
            "  estimator.fit(X_train, y_train, **fit_params)\n",
            "/usr/local/lib/python3.7/dist-packages/sklearn/model_selection/_validation.py:680: DataConversionWarning: A column-vector y was passed when a 1d array was expected. Please change the shape of y to (n_samples,), for example using ravel().\n",
            "  estimator.fit(X_train, y_train, **fit_params)\n",
            "/usr/local/lib/python3.7/dist-packages/sklearn/model_selection/_validation.py:680: DataConversionWarning: A column-vector y was passed when a 1d array was expected. Please change the shape of y to (n_samples,), for example using ravel().\n",
            "  estimator.fit(X_train, y_train, **fit_params)\n",
            "/usr/local/lib/python3.7/dist-packages/sklearn/model_selection/_validation.py:680: DataConversionWarning: A column-vector y was passed when a 1d array was expected. Please change the shape of y to (n_samples,), for example using ravel().\n",
            "  estimator.fit(X_train, y_train, **fit_params)\n",
            "/usr/local/lib/python3.7/dist-packages/sklearn/model_selection/_validation.py:680: DataConversionWarning: A column-vector y was passed when a 1d array was expected. Please change the shape of y to (n_samples,), for example using ravel().\n",
            "  estimator.fit(X_train, y_train, **fit_params)\n",
            "/usr/local/lib/python3.7/dist-packages/sklearn/model_selection/_validation.py:680: DataConversionWarning: A column-vector y was passed when a 1d array was expected. Please change the shape of y to (n_samples,), for example using ravel().\n",
            "  estimator.fit(X_train, y_train, **fit_params)\n",
            "/usr/local/lib/python3.7/dist-packages/sklearn/model_selection/_validation.py:680: DataConversionWarning: A column-vector y was passed when a 1d array was expected. Please change the shape of y to (n_samples,), for example using ravel().\n",
            "  estimator.fit(X_train, y_train, **fit_params)\n",
            "/usr/local/lib/python3.7/dist-packages/sklearn/model_selection/_validation.py:680: DataConversionWarning: A column-vector y was passed when a 1d array was expected. Please change the shape of y to (n_samples,), for example using ravel().\n",
            "  estimator.fit(X_train, y_train, **fit_params)\n",
            "/usr/local/lib/python3.7/dist-packages/sklearn/model_selection/_validation.py:680: DataConversionWarning: A column-vector y was passed when a 1d array was expected. Please change the shape of y to (n_samples,), for example using ravel().\n",
            "  estimator.fit(X_train, y_train, **fit_params)\n",
            "/usr/local/lib/python3.7/dist-packages/sklearn/model_selection/_validation.py:680: DataConversionWarning: A column-vector y was passed when a 1d array was expected. Please change the shape of y to (n_samples,), for example using ravel().\n",
            "  estimator.fit(X_train, y_train, **fit_params)\n",
            "/usr/local/lib/python3.7/dist-packages/sklearn/model_selection/_validation.py:680: DataConversionWarning: A column-vector y was passed when a 1d array was expected. Please change the shape of y to (n_samples,), for example using ravel().\n",
            "  estimator.fit(X_train, y_train, **fit_params)\n",
            "/usr/local/lib/python3.7/dist-packages/sklearn/model_selection/_validation.py:680: DataConversionWarning: A column-vector y was passed when a 1d array was expected. Please change the shape of y to (n_samples,), for example using ravel().\n",
            "  estimator.fit(X_train, y_train, **fit_params)\n",
            "/usr/local/lib/python3.7/dist-packages/sklearn/model_selection/_validation.py:680: DataConversionWarning: A column-vector y was passed when a 1d array was expected. Please change the shape of y to (n_samples,), for example using ravel().\n",
            "  estimator.fit(X_train, y_train, **fit_params)\n",
            "/usr/local/lib/python3.7/dist-packages/sklearn/model_selection/_validation.py:680: DataConversionWarning: A column-vector y was passed when a 1d array was expected. Please change the shape of y to (n_samples,), for example using ravel().\n",
            "  estimator.fit(X_train, y_train, **fit_params)\n",
            "/usr/local/lib/python3.7/dist-packages/sklearn/model_selection/_validation.py:680: DataConversionWarning: A column-vector y was passed when a 1d array was expected. Please change the shape of y to (n_samples,), for example using ravel().\n",
            "  estimator.fit(X_train, y_train, **fit_params)\n",
            "/usr/local/lib/python3.7/dist-packages/sklearn/model_selection/_validation.py:680: DataConversionWarning: A column-vector y was passed when a 1d array was expected. Please change the shape of y to (n_samples,), for example using ravel().\n",
            "  estimator.fit(X_train, y_train, **fit_params)\n",
            "/usr/local/lib/python3.7/dist-packages/sklearn/model_selection/_validation.py:680: DataConversionWarning: A column-vector y was passed when a 1d array was expected. Please change the shape of y to (n_samples,), for example using ravel().\n",
            "  estimator.fit(X_train, y_train, **fit_params)\n",
            "/usr/local/lib/python3.7/dist-packages/sklearn/model_selection/_validation.py:680: DataConversionWarning: A column-vector y was passed when a 1d array was expected. Please change the shape of y to (n_samples,), for example using ravel().\n",
            "  estimator.fit(X_train, y_train, **fit_params)\n",
            "/usr/local/lib/python3.7/dist-packages/sklearn/model_selection/_validation.py:680: DataConversionWarning: A column-vector y was passed when a 1d array was expected. Please change the shape of y to (n_samples,), for example using ravel().\n",
            "  estimator.fit(X_train, y_train, **fit_params)\n",
            "/usr/local/lib/python3.7/dist-packages/sklearn/model_selection/_validation.py:680: DataConversionWarning: A column-vector y was passed when a 1d array was expected. Please change the shape of y to (n_samples,), for example using ravel().\n",
            "  estimator.fit(X_train, y_train, **fit_params)\n",
            "/usr/local/lib/python3.7/dist-packages/sklearn/model_selection/_validation.py:680: DataConversionWarning: A column-vector y was passed when a 1d array was expected. Please change the shape of y to (n_samples,), for example using ravel().\n",
            "  estimator.fit(X_train, y_train, **fit_params)\n",
            "/usr/local/lib/python3.7/dist-packages/sklearn/model_selection/_validation.py:680: DataConversionWarning: A column-vector y was passed when a 1d array was expected. Please change the shape of y to (n_samples,), for example using ravel().\n",
            "  estimator.fit(X_train, y_train, **fit_params)\n",
            "/usr/local/lib/python3.7/dist-packages/sklearn/model_selection/_validation.py:680: DataConversionWarning: A column-vector y was passed when a 1d array was expected. Please change the shape of y to (n_samples,), for example using ravel().\n",
            "  estimator.fit(X_train, y_train, **fit_params)\n",
            "/usr/local/lib/python3.7/dist-packages/sklearn/model_selection/_validation.py:680: DataConversionWarning: A column-vector y was passed when a 1d array was expected. Please change the shape of y to (n_samples,), for example using ravel().\n",
            "  estimator.fit(X_train, y_train, **fit_params)\n",
            "/usr/local/lib/python3.7/dist-packages/sklearn/model_selection/_validation.py:680: DataConversionWarning: A column-vector y was passed when a 1d array was expected. Please change the shape of y to (n_samples,), for example using ravel().\n",
            "  estimator.fit(X_train, y_train, **fit_params)\n",
            "/usr/local/lib/python3.7/dist-packages/sklearn/model_selection/_validation.py:680: DataConversionWarning: A column-vector y was passed when a 1d array was expected. Please change the shape of y to (n_samples,), for example using ravel().\n",
            "  estimator.fit(X_train, y_train, **fit_params)\n",
            "/usr/local/lib/python3.7/dist-packages/sklearn/model_selection/_validation.py:680: DataConversionWarning: A column-vector y was passed when a 1d array was expected. Please change the shape of y to (n_samples,), for example using ravel().\n",
            "  estimator.fit(X_train, y_train, **fit_params)\n",
            "/usr/local/lib/python3.7/dist-packages/sklearn/model_selection/_validation.py:680: DataConversionWarning: A column-vector y was passed when a 1d array was expected. Please change the shape of y to (n_samples,), for example using ravel().\n",
            "  estimator.fit(X_train, y_train, **fit_params)\n",
            "/usr/local/lib/python3.7/dist-packages/sklearn/model_selection/_validation.py:680: DataConversionWarning: A column-vector y was passed when a 1d array was expected. Please change the shape of y to (n_samples,), for example using ravel().\n",
            "  estimator.fit(X_train, y_train, **fit_params)\n",
            "/usr/local/lib/python3.7/dist-packages/sklearn/model_selection/_validation.py:680: DataConversionWarning: A column-vector y was passed when a 1d array was expected. Please change the shape of y to (n_samples,), for example using ravel().\n",
            "  estimator.fit(X_train, y_train, **fit_params)\n",
            "/usr/local/lib/python3.7/dist-packages/sklearn/model_selection/_validation.py:680: DataConversionWarning: A column-vector y was passed when a 1d array was expected. Please change the shape of y to (n_samples,), for example using ravel().\n",
            "  estimator.fit(X_train, y_train, **fit_params)\n",
            "/usr/local/lib/python3.7/dist-packages/sklearn/model_selection/_validation.py:680: DataConversionWarning: A column-vector y was passed when a 1d array was expected. Please change the shape of y to (n_samples,), for example using ravel().\n",
            "  estimator.fit(X_train, y_train, **fit_params)\n",
            "/usr/local/lib/python3.7/dist-packages/sklearn/model_selection/_validation.py:680: DataConversionWarning: A column-vector y was passed when a 1d array was expected. Please change the shape of y to (n_samples,), for example using ravel().\n",
            "  estimator.fit(X_train, y_train, **fit_params)\n",
            "/usr/local/lib/python3.7/dist-packages/sklearn/model_selection/_validation.py:680: DataConversionWarning: A column-vector y was passed when a 1d array was expected. Please change the shape of y to (n_samples,), for example using ravel().\n",
            "  estimator.fit(X_train, y_train, **fit_params)\n",
            "/usr/local/lib/python3.7/dist-packages/sklearn/model_selection/_validation.py:680: DataConversionWarning: A column-vector y was passed when a 1d array was expected. Please change the shape of y to (n_samples,), for example using ravel().\n",
            "  estimator.fit(X_train, y_train, **fit_params)\n",
            "/usr/local/lib/python3.7/dist-packages/sklearn/model_selection/_validation.py:680: DataConversionWarning: A column-vector y was passed when a 1d array was expected. Please change the shape of y to (n_samples,), for example using ravel().\n",
            "  estimator.fit(X_train, y_train, **fit_params)\n",
            "/usr/local/lib/python3.7/dist-packages/sklearn/model_selection/_validation.py:680: DataConversionWarning: A column-vector y was passed when a 1d array was expected. Please change the shape of y to (n_samples,), for example using ravel().\n",
            "  estimator.fit(X_train, y_train, **fit_params)\n",
            "/usr/local/lib/python3.7/dist-packages/sklearn/model_selection/_validation.py:680: DataConversionWarning: A column-vector y was passed when a 1d array was expected. Please change the shape of y to (n_samples,), for example using ravel().\n",
            "  estimator.fit(X_train, y_train, **fit_params)\n",
            "/usr/local/lib/python3.7/dist-packages/sklearn/model_selection/_validation.py:680: DataConversionWarning: A column-vector y was passed when a 1d array was expected. Please change the shape of y to (n_samples,), for example using ravel().\n",
            "  estimator.fit(X_train, y_train, **fit_params)\n",
            "/usr/local/lib/python3.7/dist-packages/sklearn/model_selection/_validation.py:680: DataConversionWarning: A column-vector y was passed when a 1d array was expected. Please change the shape of y to (n_samples,), for example using ravel().\n",
            "  estimator.fit(X_train, y_train, **fit_params)\n",
            "/usr/local/lib/python3.7/dist-packages/sklearn/model_selection/_validation.py:680: DataConversionWarning: A column-vector y was passed when a 1d array was expected. Please change the shape of y to (n_samples,), for example using ravel().\n",
            "  estimator.fit(X_train, y_train, **fit_params)\n",
            "/usr/local/lib/python3.7/dist-packages/sklearn/model_selection/_validation.py:680: DataConversionWarning: A column-vector y was passed when a 1d array was expected. Please change the shape of y to (n_samples,), for example using ravel().\n",
            "  estimator.fit(X_train, y_train, **fit_params)\n",
            "/usr/local/lib/python3.7/dist-packages/sklearn/model_selection/_validation.py:680: DataConversionWarning: A column-vector y was passed when a 1d array was expected. Please change the shape of y to (n_samples,), for example using ravel().\n",
            "  estimator.fit(X_train, y_train, **fit_params)\n",
            "/usr/local/lib/python3.7/dist-packages/sklearn/model_selection/_validation.py:680: DataConversionWarning: A column-vector y was passed when a 1d array was expected. Please change the shape of y to (n_samples,), for example using ravel().\n",
            "  estimator.fit(X_train, y_train, **fit_params)\n",
            "/usr/local/lib/python3.7/dist-packages/sklearn/model_selection/_validation.py:680: DataConversionWarning: A column-vector y was passed when a 1d array was expected. Please change the shape of y to (n_samples,), for example using ravel().\n",
            "  estimator.fit(X_train, y_train, **fit_params)\n",
            "/usr/local/lib/python3.7/dist-packages/sklearn/model_selection/_validation.py:680: DataConversionWarning: A column-vector y was passed when a 1d array was expected. Please change the shape of y to (n_samples,), for example using ravel().\n",
            "  estimator.fit(X_train, y_train, **fit_params)\n",
            "/usr/local/lib/python3.7/dist-packages/sklearn/model_selection/_validation.py:680: DataConversionWarning: A column-vector y was passed when a 1d array was expected. Please change the shape of y to (n_samples,), for example using ravel().\n",
            "  estimator.fit(X_train, y_train, **fit_params)\n",
            "/usr/local/lib/python3.7/dist-packages/sklearn/model_selection/_validation.py:680: DataConversionWarning: A column-vector y was passed when a 1d array was expected. Please change the shape of y to (n_samples,), for example using ravel().\n",
            "  estimator.fit(X_train, y_train, **fit_params)\n",
            "/usr/local/lib/python3.7/dist-packages/sklearn/model_selection/_validation.py:680: DataConversionWarning: A column-vector y was passed when a 1d array was expected. Please change the shape of y to (n_samples,), for example using ravel().\n",
            "  estimator.fit(X_train, y_train, **fit_params)\n",
            "/usr/local/lib/python3.7/dist-packages/sklearn/model_selection/_validation.py:680: DataConversionWarning: A column-vector y was passed when a 1d array was expected. Please change the shape of y to (n_samples,), for example using ravel().\n",
            "  estimator.fit(X_train, y_train, **fit_params)\n",
            "/usr/local/lib/python3.7/dist-packages/sklearn/model_selection/_validation.py:680: DataConversionWarning: A column-vector y was passed when a 1d array was expected. Please change the shape of y to (n_samples,), for example using ravel().\n",
            "  estimator.fit(X_train, y_train, **fit_params)\n",
            "/usr/local/lib/python3.7/dist-packages/sklearn/model_selection/_validation.py:680: DataConversionWarning: A column-vector y was passed when a 1d array was expected. Please change the shape of y to (n_samples,), for example using ravel().\n",
            "  estimator.fit(X_train, y_train, **fit_params)\n",
            "/usr/local/lib/python3.7/dist-packages/sklearn/model_selection/_validation.py:680: DataConversionWarning: A column-vector y was passed when a 1d array was expected. Please change the shape of y to (n_samples,), for example using ravel().\n",
            "  estimator.fit(X_train, y_train, **fit_params)\n",
            "/usr/local/lib/python3.7/dist-packages/sklearn/model_selection/_validation.py:680: DataConversionWarning: A column-vector y was passed when a 1d array was expected. Please change the shape of y to (n_samples,), for example using ravel().\n",
            "  estimator.fit(X_train, y_train, **fit_params)\n",
            "/usr/local/lib/python3.7/dist-packages/sklearn/model_selection/_validation.py:680: DataConversionWarning: A column-vector y was passed when a 1d array was expected. Please change the shape of y to (n_samples,), for example using ravel().\n",
            "  estimator.fit(X_train, y_train, **fit_params)\n",
            "/usr/local/lib/python3.7/dist-packages/sklearn/model_selection/_validation.py:680: DataConversionWarning: A column-vector y was passed when a 1d array was expected. Please change the shape of y to (n_samples,), for example using ravel().\n",
            "  estimator.fit(X_train, y_train, **fit_params)\n",
            "/usr/local/lib/python3.7/dist-packages/sklearn/model_selection/_validation.py:680: DataConversionWarning: A column-vector y was passed when a 1d array was expected. Please change the shape of y to (n_samples,), for example using ravel().\n",
            "  estimator.fit(X_train, y_train, **fit_params)\n",
            "/usr/local/lib/python3.7/dist-packages/sklearn/model_selection/_validation.py:680: DataConversionWarning: A column-vector y was passed when a 1d array was expected. Please change the shape of y to (n_samples,), for example using ravel().\n",
            "  estimator.fit(X_train, y_train, **fit_params)\n",
            "/usr/local/lib/python3.7/dist-packages/sklearn/model_selection/_validation.py:680: DataConversionWarning: A column-vector y was passed when a 1d array was expected. Please change the shape of y to (n_samples,), for example using ravel().\n",
            "  estimator.fit(X_train, y_train, **fit_params)\n",
            "/usr/local/lib/python3.7/dist-packages/sklearn/model_selection/_validation.py:680: DataConversionWarning: A column-vector y was passed when a 1d array was expected. Please change the shape of y to (n_samples,), for example using ravel().\n",
            "  estimator.fit(X_train, y_train, **fit_params)\n",
            "/usr/local/lib/python3.7/dist-packages/sklearn/model_selection/_validation.py:680: DataConversionWarning: A column-vector y was passed when a 1d array was expected. Please change the shape of y to (n_samples,), for example using ravel().\n",
            "  estimator.fit(X_train, y_train, **fit_params)\n",
            "/usr/local/lib/python3.7/dist-packages/sklearn/model_selection/_validation.py:680: DataConversionWarning: A column-vector y was passed when a 1d array was expected. Please change the shape of y to (n_samples,), for example using ravel().\n",
            "  estimator.fit(X_train, y_train, **fit_params)\n",
            "/usr/local/lib/python3.7/dist-packages/sklearn/model_selection/_validation.py:680: DataConversionWarning: A column-vector y was passed when a 1d array was expected. Please change the shape of y to (n_samples,), for example using ravel().\n",
            "  estimator.fit(X_train, y_train, **fit_params)\n",
            "/usr/local/lib/python3.7/dist-packages/sklearn/model_selection/_validation.py:680: DataConversionWarning: A column-vector y was passed when a 1d array was expected. Please change the shape of y to (n_samples,), for example using ravel().\n",
            "  estimator.fit(X_train, y_train, **fit_params)\n",
            "/usr/local/lib/python3.7/dist-packages/sklearn/model_selection/_validation.py:680: DataConversionWarning: A column-vector y was passed when a 1d array was expected. Please change the shape of y to (n_samples,), for example using ravel().\n",
            "  estimator.fit(X_train, y_train, **fit_params)\n",
            "/usr/local/lib/python3.7/dist-packages/sklearn/model_selection/_validation.py:680: DataConversionWarning: A column-vector y was passed when a 1d array was expected. Please change the shape of y to (n_samples,), for example using ravel().\n",
            "  estimator.fit(X_train, y_train, **fit_params)\n",
            "/usr/local/lib/python3.7/dist-packages/sklearn/model_selection/_validation.py:680: DataConversionWarning: A column-vector y was passed when a 1d array was expected. Please change the shape of y to (n_samples,), for example using ravel().\n",
            "  estimator.fit(X_train, y_train, **fit_params)\n",
            "/usr/local/lib/python3.7/dist-packages/sklearn/model_selection/_validation.py:680: DataConversionWarning: A column-vector y was passed when a 1d array was expected. Please change the shape of y to (n_samples,), for example using ravel().\n",
            "  estimator.fit(X_train, y_train, **fit_params)\n",
            "/usr/local/lib/python3.7/dist-packages/sklearn/model_selection/_validation.py:680: DataConversionWarning: A column-vector y was passed when a 1d array was expected. Please change the shape of y to (n_samples,), for example using ravel().\n",
            "  estimator.fit(X_train, y_train, **fit_params)\n",
            "/usr/local/lib/python3.7/dist-packages/sklearn/model_selection/_validation.py:680: DataConversionWarning: A column-vector y was passed when a 1d array was expected. Please change the shape of y to (n_samples,), for example using ravel().\n",
            "  estimator.fit(X_train, y_train, **fit_params)\n",
            "/usr/local/lib/python3.7/dist-packages/sklearn/model_selection/_validation.py:680: DataConversionWarning: A column-vector y was passed when a 1d array was expected. Please change the shape of y to (n_samples,), for example using ravel().\n",
            "  estimator.fit(X_train, y_train, **fit_params)\n",
            "/usr/local/lib/python3.7/dist-packages/sklearn/model_selection/_validation.py:680: DataConversionWarning: A column-vector y was passed when a 1d array was expected. Please change the shape of y to (n_samples,), for example using ravel().\n",
            "  estimator.fit(X_train, y_train, **fit_params)\n",
            "/usr/local/lib/python3.7/dist-packages/sklearn/model_selection/_validation.py:680: DataConversionWarning: A column-vector y was passed when a 1d array was expected. Please change the shape of y to (n_samples,), for example using ravel().\n",
            "  estimator.fit(X_train, y_train, **fit_params)\n",
            "/usr/local/lib/python3.7/dist-packages/sklearn/model_selection/_validation.py:680: DataConversionWarning: A column-vector y was passed when a 1d array was expected. Please change the shape of y to (n_samples,), for example using ravel().\n",
            "  estimator.fit(X_train, y_train, **fit_params)\n",
            "/usr/local/lib/python3.7/dist-packages/sklearn/model_selection/_validation.py:680: DataConversionWarning: A column-vector y was passed when a 1d array was expected. Please change the shape of y to (n_samples,), for example using ravel().\n",
            "  estimator.fit(X_train, y_train, **fit_params)\n",
            "/usr/local/lib/python3.7/dist-packages/sklearn/model_selection/_validation.py:680: DataConversionWarning: A column-vector y was passed when a 1d array was expected. Please change the shape of y to (n_samples,), for example using ravel().\n",
            "  estimator.fit(X_train, y_train, **fit_params)\n",
            "/usr/local/lib/python3.7/dist-packages/sklearn/model_selection/_validation.py:680: DataConversionWarning: A column-vector y was passed when a 1d array was expected. Please change the shape of y to (n_samples,), for example using ravel().\n",
            "  estimator.fit(X_train, y_train, **fit_params)\n",
            "/usr/local/lib/python3.7/dist-packages/sklearn/model_selection/_validation.py:680: DataConversionWarning: A column-vector y was passed when a 1d array was expected. Please change the shape of y to (n_samples,), for example using ravel().\n",
            "  estimator.fit(X_train, y_train, **fit_params)\n",
            "/usr/local/lib/python3.7/dist-packages/sklearn/model_selection/_validation.py:680: DataConversionWarning: A column-vector y was passed when a 1d array was expected. Please change the shape of y to (n_samples,), for example using ravel().\n",
            "  estimator.fit(X_train, y_train, **fit_params)\n",
            "/usr/local/lib/python3.7/dist-packages/sklearn/model_selection/_validation.py:680: DataConversionWarning: A column-vector y was passed when a 1d array was expected. Please change the shape of y to (n_samples,), for example using ravel().\n",
            "  estimator.fit(X_train, y_train, **fit_params)\n",
            "/usr/local/lib/python3.7/dist-packages/sklearn/model_selection/_validation.py:680: DataConversionWarning: A column-vector y was passed when a 1d array was expected. Please change the shape of y to (n_samples,), for example using ravel().\n",
            "  estimator.fit(X_train, y_train, **fit_params)\n",
            "/usr/local/lib/python3.7/dist-packages/sklearn/model_selection/_validation.py:680: DataConversionWarning: A column-vector y was passed when a 1d array was expected. Please change the shape of y to (n_samples,), for example using ravel().\n",
            "  estimator.fit(X_train, y_train, **fit_params)\n",
            "/usr/local/lib/python3.7/dist-packages/sklearn/model_selection/_validation.py:680: DataConversionWarning: A column-vector y was passed when a 1d array was expected. Please change the shape of y to (n_samples,), for example using ravel().\n",
            "  estimator.fit(X_train, y_train, **fit_params)\n",
            "/usr/local/lib/python3.7/dist-packages/sklearn/model_selection/_validation.py:680: DataConversionWarning: A column-vector y was passed when a 1d array was expected. Please change the shape of y to (n_samples,), for example using ravel().\n",
            "  estimator.fit(X_train, y_train, **fit_params)\n",
            "/usr/local/lib/python3.7/dist-packages/sklearn/model_selection/_validation.py:680: DataConversionWarning: A column-vector y was passed when a 1d array was expected. Please change the shape of y to (n_samples,), for example using ravel().\n",
            "  estimator.fit(X_train, y_train, **fit_params)\n",
            "/usr/local/lib/python3.7/dist-packages/sklearn/model_selection/_validation.py:680: DataConversionWarning: A column-vector y was passed when a 1d array was expected. Please change the shape of y to (n_samples,), for example using ravel().\n",
            "  estimator.fit(X_train, y_train, **fit_params)\n",
            "/usr/local/lib/python3.7/dist-packages/sklearn/model_selection/_validation.py:680: DataConversionWarning: A column-vector y was passed when a 1d array was expected. Please change the shape of y to (n_samples,), for example using ravel().\n",
            "  estimator.fit(X_train, y_train, **fit_params)\n",
            "/usr/local/lib/python3.7/dist-packages/sklearn/model_selection/_validation.py:680: DataConversionWarning: A column-vector y was passed when a 1d array was expected. Please change the shape of y to (n_samples,), for example using ravel().\n",
            "  estimator.fit(X_train, y_train, **fit_params)\n",
            "/usr/local/lib/python3.7/dist-packages/sklearn/model_selection/_validation.py:680: DataConversionWarning: A column-vector y was passed when a 1d array was expected. Please change the shape of y to (n_samples,), for example using ravel().\n",
            "  estimator.fit(X_train, y_train, **fit_params)\n",
            "/usr/local/lib/python3.7/dist-packages/sklearn/model_selection/_validation.py:680: DataConversionWarning: A column-vector y was passed when a 1d array was expected. Please change the shape of y to (n_samples,), for example using ravel().\n",
            "  estimator.fit(X_train, y_train, **fit_params)\n",
            "/usr/local/lib/python3.7/dist-packages/sklearn/model_selection/_validation.py:680: DataConversionWarning: A column-vector y was passed when a 1d array was expected. Please change the shape of y to (n_samples,), for example using ravel().\n",
            "  estimator.fit(X_train, y_train, **fit_params)\n",
            "/usr/local/lib/python3.7/dist-packages/sklearn/model_selection/_validation.py:680: DataConversionWarning: A column-vector y was passed when a 1d array was expected. Please change the shape of y to (n_samples,), for example using ravel().\n",
            "  estimator.fit(X_train, y_train, **fit_params)\n",
            "/usr/local/lib/python3.7/dist-packages/sklearn/model_selection/_validation.py:680: DataConversionWarning: A column-vector y was passed when a 1d array was expected. Please change the shape of y to (n_samples,), for example using ravel().\n",
            "  estimator.fit(X_train, y_train, **fit_params)\n",
            "/usr/local/lib/python3.7/dist-packages/sklearn/model_selection/_validation.py:680: DataConversionWarning: A column-vector y was passed when a 1d array was expected. Please change the shape of y to (n_samples,), for example using ravel().\n",
            "  estimator.fit(X_train, y_train, **fit_params)\n",
            "/usr/local/lib/python3.7/dist-packages/sklearn/model_selection/_validation.py:680: DataConversionWarning: A column-vector y was passed when a 1d array was expected. Please change the shape of y to (n_samples,), for example using ravel().\n",
            "  estimator.fit(X_train, y_train, **fit_params)\n",
            "/usr/local/lib/python3.7/dist-packages/sklearn/model_selection/_validation.py:680: DataConversionWarning: A column-vector y was passed when a 1d array was expected. Please change the shape of y to (n_samples,), for example using ravel().\n",
            "  estimator.fit(X_train, y_train, **fit_params)\n",
            "/usr/local/lib/python3.7/dist-packages/sklearn/model_selection/_validation.py:680: DataConversionWarning: A column-vector y was passed when a 1d array was expected. Please change the shape of y to (n_samples,), for example using ravel().\n",
            "  estimator.fit(X_train, y_train, **fit_params)\n",
            "/usr/local/lib/python3.7/dist-packages/sklearn/model_selection/_validation.py:680: DataConversionWarning: A column-vector y was passed when a 1d array was expected. Please change the shape of y to (n_samples,), for example using ravel().\n",
            "  estimator.fit(X_train, y_train, **fit_params)\n",
            "/usr/local/lib/python3.7/dist-packages/sklearn/model_selection/_validation.py:680: DataConversionWarning: A column-vector y was passed when a 1d array was expected. Please change the shape of y to (n_samples,), for example using ravel().\n",
            "  estimator.fit(X_train, y_train, **fit_params)\n",
            "/usr/local/lib/python3.7/dist-packages/sklearn/model_selection/_validation.py:680: DataConversionWarning: A column-vector y was passed when a 1d array was expected. Please change the shape of y to (n_samples,), for example using ravel().\n",
            "  estimator.fit(X_train, y_train, **fit_params)\n",
            "/usr/local/lib/python3.7/dist-packages/sklearn/model_selection/_validation.py:680: DataConversionWarning: A column-vector y was passed when a 1d array was expected. Please change the shape of y to (n_samples,), for example using ravel().\n",
            "  estimator.fit(X_train, y_train, **fit_params)\n",
            "/usr/local/lib/python3.7/dist-packages/sklearn/model_selection/_validation.py:680: DataConversionWarning: A column-vector y was passed when a 1d array was expected. Please change the shape of y to (n_samples,), for example using ravel().\n",
            "  estimator.fit(X_train, y_train, **fit_params)\n",
            "/usr/local/lib/python3.7/dist-packages/sklearn/model_selection/_validation.py:680: DataConversionWarning: A column-vector y was passed when a 1d array was expected. Please change the shape of y to (n_samples,), for example using ravel().\n",
            "  estimator.fit(X_train, y_train, **fit_params)\n",
            "/usr/local/lib/python3.7/dist-packages/sklearn/model_selection/_validation.py:680: DataConversionWarning: A column-vector y was passed when a 1d array was expected. Please change the shape of y to (n_samples,), for example using ravel().\n",
            "  estimator.fit(X_train, y_train, **fit_params)\n",
            "/usr/local/lib/python3.7/dist-packages/sklearn/model_selection/_validation.py:680: DataConversionWarning: A column-vector y was passed when a 1d array was expected. Please change the shape of y to (n_samples,), for example using ravel().\n",
            "  estimator.fit(X_train, y_train, **fit_params)\n",
            "/usr/local/lib/python3.7/dist-packages/sklearn/model_selection/_validation.py:680: DataConversionWarning: A column-vector y was passed when a 1d array was expected. Please change the shape of y to (n_samples,), for example using ravel().\n",
            "  estimator.fit(X_train, y_train, **fit_params)\n",
            "/usr/local/lib/python3.7/dist-packages/sklearn/model_selection/_validation.py:680: DataConversionWarning: A column-vector y was passed when a 1d array was expected. Please change the shape of y to (n_samples,), for example using ravel().\n",
            "  estimator.fit(X_train, y_train, **fit_params)\n",
            "/usr/local/lib/python3.7/dist-packages/sklearn/model_selection/_validation.py:680: DataConversionWarning: A column-vector y was passed when a 1d array was expected. Please change the shape of y to (n_samples,), for example using ravel().\n",
            "  estimator.fit(X_train, y_train, **fit_params)\n",
            "/usr/local/lib/python3.7/dist-packages/sklearn/model_selection/_validation.py:680: DataConversionWarning: A column-vector y was passed when a 1d array was expected. Please change the shape of y to (n_samples,), for example using ravel().\n",
            "  estimator.fit(X_train, y_train, **fit_params)\n",
            "/usr/local/lib/python3.7/dist-packages/sklearn/model_selection/_validation.py:680: DataConversionWarning: A column-vector y was passed when a 1d array was expected. Please change the shape of y to (n_samples,), for example using ravel().\n",
            "  estimator.fit(X_train, y_train, **fit_params)\n",
            "/usr/local/lib/python3.7/dist-packages/sklearn/model_selection/_validation.py:680: DataConversionWarning: A column-vector y was passed when a 1d array was expected. Please change the shape of y to (n_samples,), for example using ravel().\n",
            "  estimator.fit(X_train, y_train, **fit_params)\n",
            "/usr/local/lib/python3.7/dist-packages/sklearn/model_selection/_validation.py:680: DataConversionWarning: A column-vector y was passed when a 1d array was expected. Please change the shape of y to (n_samples,), for example using ravel().\n",
            "  estimator.fit(X_train, y_train, **fit_params)\n",
            "/usr/local/lib/python3.7/dist-packages/sklearn/model_selection/_validation.py:680: DataConversionWarning: A column-vector y was passed when a 1d array was expected. Please change the shape of y to (n_samples,), for example using ravel().\n",
            "  estimator.fit(X_train, y_train, **fit_params)\n",
            "/usr/local/lib/python3.7/dist-packages/sklearn/model_selection/_validation.py:680: DataConversionWarning: A column-vector y was passed when a 1d array was expected. Please change the shape of y to (n_samples,), for example using ravel().\n",
            "  estimator.fit(X_train, y_train, **fit_params)\n",
            "/usr/local/lib/python3.7/dist-packages/sklearn/model_selection/_validation.py:680: DataConversionWarning: A column-vector y was passed when a 1d array was expected. Please change the shape of y to (n_samples,), for example using ravel().\n",
            "  estimator.fit(X_train, y_train, **fit_params)\n",
            "/usr/local/lib/python3.7/dist-packages/sklearn/model_selection/_validation.py:680: DataConversionWarning: A column-vector y was passed when a 1d array was expected. Please change the shape of y to (n_samples,), for example using ravel().\n",
            "  estimator.fit(X_train, y_train, **fit_params)\n",
            "/usr/local/lib/python3.7/dist-packages/sklearn/model_selection/_validation.py:680: DataConversionWarning: A column-vector y was passed when a 1d array was expected. Please change the shape of y to (n_samples,), for example using ravel().\n",
            "  estimator.fit(X_train, y_train, **fit_params)\n",
            "/usr/local/lib/python3.7/dist-packages/sklearn/model_selection/_validation.py:680: DataConversionWarning: A column-vector y was passed when a 1d array was expected. Please change the shape of y to (n_samples,), for example using ravel().\n",
            "  estimator.fit(X_train, y_train, **fit_params)\n",
            "/usr/local/lib/python3.7/dist-packages/sklearn/model_selection/_validation.py:680: DataConversionWarning: A column-vector y was passed when a 1d array was expected. Please change the shape of y to (n_samples,), for example using ravel().\n",
            "  estimator.fit(X_train, y_train, **fit_params)\n",
            "/usr/local/lib/python3.7/dist-packages/sklearn/model_selection/_validation.py:680: DataConversionWarning: A column-vector y was passed when a 1d array was expected. Please change the shape of y to (n_samples,), for example using ravel().\n",
            "  estimator.fit(X_train, y_train, **fit_params)\n",
            "/usr/local/lib/python3.7/dist-packages/sklearn/model_selection/_validation.py:680: DataConversionWarning: A column-vector y was passed when a 1d array was expected. Please change the shape of y to (n_samples,), for example using ravel().\n",
            "  estimator.fit(X_train, y_train, **fit_params)\n",
            "/usr/local/lib/python3.7/dist-packages/sklearn/model_selection/_validation.py:680: DataConversionWarning: A column-vector y was passed when a 1d array was expected. Please change the shape of y to (n_samples,), for example using ravel().\n",
            "  estimator.fit(X_train, y_train, **fit_params)\n",
            "/usr/local/lib/python3.7/dist-packages/sklearn/model_selection/_validation.py:680: DataConversionWarning: A column-vector y was passed when a 1d array was expected. Please change the shape of y to (n_samples,), for example using ravel().\n",
            "  estimator.fit(X_train, y_train, **fit_params)\n",
            "/usr/local/lib/python3.7/dist-packages/sklearn/model_selection/_validation.py:680: DataConversionWarning: A column-vector y was passed when a 1d array was expected. Please change the shape of y to (n_samples,), for example using ravel().\n",
            "  estimator.fit(X_train, y_train, **fit_params)\n",
            "/usr/local/lib/python3.7/dist-packages/sklearn/model_selection/_validation.py:680: DataConversionWarning: A column-vector y was passed when a 1d array was expected. Please change the shape of y to (n_samples,), for example using ravel().\n",
            "  estimator.fit(X_train, y_train, **fit_params)\n",
            "/usr/local/lib/python3.7/dist-packages/sklearn/model_selection/_validation.py:680: DataConversionWarning: A column-vector y was passed when a 1d array was expected. Please change the shape of y to (n_samples,), for example using ravel().\n",
            "  estimator.fit(X_train, y_train, **fit_params)\n",
            "/usr/local/lib/python3.7/dist-packages/sklearn/model_selection/_validation.py:680: DataConversionWarning: A column-vector y was passed when a 1d array was expected. Please change the shape of y to (n_samples,), for example using ravel().\n",
            "  estimator.fit(X_train, y_train, **fit_params)\n",
            "/usr/local/lib/python3.7/dist-packages/sklearn/model_selection/_validation.py:680: DataConversionWarning: A column-vector y was passed when a 1d array was expected. Please change the shape of y to (n_samples,), for example using ravel().\n",
            "  estimator.fit(X_train, y_train, **fit_params)\n",
            "/usr/local/lib/python3.7/dist-packages/sklearn/model_selection/_validation.py:680: DataConversionWarning: A column-vector y was passed when a 1d array was expected. Please change the shape of y to (n_samples,), for example using ravel().\n",
            "  estimator.fit(X_train, y_train, **fit_params)\n",
            "/usr/local/lib/python3.7/dist-packages/sklearn/model_selection/_validation.py:680: DataConversionWarning: A column-vector y was passed when a 1d array was expected. Please change the shape of y to (n_samples,), for example using ravel().\n",
            "  estimator.fit(X_train, y_train, **fit_params)\n",
            "/usr/local/lib/python3.7/dist-packages/sklearn/model_selection/_validation.py:680: DataConversionWarning: A column-vector y was passed when a 1d array was expected. Please change the shape of y to (n_samples,), for example using ravel().\n",
            "  estimator.fit(X_train, y_train, **fit_params)\n",
            "/usr/local/lib/python3.7/dist-packages/sklearn/model_selection/_validation.py:680: DataConversionWarning: A column-vector y was passed when a 1d array was expected. Please change the shape of y to (n_samples,), for example using ravel().\n",
            "  estimator.fit(X_train, y_train, **fit_params)\n",
            "/usr/local/lib/python3.7/dist-packages/sklearn/model_selection/_validation.py:680: DataConversionWarning: A column-vector y was passed when a 1d array was expected. Please change the shape of y to (n_samples,), for example using ravel().\n",
            "  estimator.fit(X_train, y_train, **fit_params)\n",
            "/usr/local/lib/python3.7/dist-packages/sklearn/model_selection/_validation.py:680: DataConversionWarning: A column-vector y was passed when a 1d array was expected. Please change the shape of y to (n_samples,), for example using ravel().\n",
            "  estimator.fit(X_train, y_train, **fit_params)\n",
            "/usr/local/lib/python3.7/dist-packages/sklearn/model_selection/_validation.py:680: DataConversionWarning: A column-vector y was passed when a 1d array was expected. Please change the shape of y to (n_samples,), for example using ravel().\n",
            "  estimator.fit(X_train, y_train, **fit_params)\n",
            "/usr/local/lib/python3.7/dist-packages/sklearn/model_selection/_validation.py:680: DataConversionWarning: A column-vector y was passed when a 1d array was expected. Please change the shape of y to (n_samples,), for example using ravel().\n",
            "  estimator.fit(X_train, y_train, **fit_params)\n",
            "/usr/local/lib/python3.7/dist-packages/sklearn/model_selection/_validation.py:680: DataConversionWarning: A column-vector y was passed when a 1d array was expected. Please change the shape of y to (n_samples,), for example using ravel().\n",
            "  estimator.fit(X_train, y_train, **fit_params)\n",
            "/usr/local/lib/python3.7/dist-packages/sklearn/model_selection/_validation.py:680: DataConversionWarning: A column-vector y was passed when a 1d array was expected. Please change the shape of y to (n_samples,), for example using ravel().\n",
            "  estimator.fit(X_train, y_train, **fit_params)\n",
            "/usr/local/lib/python3.7/dist-packages/sklearn/model_selection/_validation.py:680: DataConversionWarning: A column-vector y was passed when a 1d array was expected. Please change the shape of y to (n_samples,), for example using ravel().\n",
            "  estimator.fit(X_train, y_train, **fit_params)\n",
            "/usr/local/lib/python3.7/dist-packages/sklearn/model_selection/_validation.py:680: DataConversionWarning: A column-vector y was passed when a 1d array was expected. Please change the shape of y to (n_samples,), for example using ravel().\n",
            "  estimator.fit(X_train, y_train, **fit_params)\n",
            "/usr/local/lib/python3.7/dist-packages/sklearn/model_selection/_validation.py:680: DataConversionWarning: A column-vector y was passed when a 1d array was expected. Please change the shape of y to (n_samples,), for example using ravel().\n",
            "  estimator.fit(X_train, y_train, **fit_params)\n",
            "/usr/local/lib/python3.7/dist-packages/sklearn/model_selection/_validation.py:680: DataConversionWarning: A column-vector y was passed when a 1d array was expected. Please change the shape of y to (n_samples,), for example using ravel().\n",
            "  estimator.fit(X_train, y_train, **fit_params)\n",
            "/usr/local/lib/python3.7/dist-packages/sklearn/model_selection/_validation.py:680: DataConversionWarning: A column-vector y was passed when a 1d array was expected. Please change the shape of y to (n_samples,), for example using ravel().\n",
            "  estimator.fit(X_train, y_train, **fit_params)\n",
            "/usr/local/lib/python3.7/dist-packages/sklearn/model_selection/_validation.py:680: DataConversionWarning: A column-vector y was passed when a 1d array was expected. Please change the shape of y to (n_samples,), for example using ravel().\n",
            "  estimator.fit(X_train, y_train, **fit_params)\n",
            "/usr/local/lib/python3.7/dist-packages/sklearn/model_selection/_search.py:926: DataConversionWarning: A column-vector y was passed when a 1d array was expected. Please change the shape of y to (n_samples,), for example using ravel().\n",
            "  self.best_estimator_.fit(X, y, **fit_params)\n"
          ]
        },
        {
          "output_type": "execute_result",
          "data": {
            "text/plain": [
              "{'criterion': 'entropy',\n",
              " 'max_depth': 50,\n",
              " 'max_features': 'sqrt',\n",
              " 'n_estimators': 300,\n",
              " 'random_state': 18}"
            ]
          },
          "metadata": {},
          "execution_count": 31
        }
      ]
    },
    {
      "cell_type": "code",
      "source": [
        "# n_estimators = 300, max_depth = 70, max_features = 'sqrt',\n",
        "#                              random_state = 18, criterion = 'entropy'"
      ],
      "metadata": {
        "id": "rejRYerDY6e1"
      },
      "execution_count": null,
      "outputs": []
    },
    {
      "cell_type": "code",
      "source": [
        "# rf_cv.best_params_\n",
        "rf_best = RandomForestClassifier(n_estimators = 300, max_depth = 30, max_features = 'sqrt',\n",
        "                             random_state = 18, criterion = 'entropy').fit( df_train ,  df_target_train)"
      ],
      "metadata": {
        "colab": {
          "base_uri": "https://localhost:8080/",
          "height": 0
        },
        "id": "j5sevi_EUj8c",
        "outputId": "877ebe74-110d-472b-c4e3-84c4fbdbb6b1"
      },
      "execution_count": 128,
      "outputs": [
        {
          "output_type": "stream",
          "name": "stderr",
          "text": [
            "/usr/local/lib/python3.7/dist-packages/ipykernel_launcher.py:3: DataConversionWarning: A column-vector y was passed when a 1d array was expected. Please change the shape of y to (n_samples,), for example using ravel().\n",
            "  This is separate from the ipykernel package so we can avoid doing imports until\n"
          ]
        }
      ]
    },
    {
      "cell_type": "code",
      "source": [
        "print('****Results****')\n",
        "\n",
        "train_predictions = rf_best.predict(df_test)\n",
        "\n",
        "acc = accuracy_score(df_target_test, train_predictions)\n",
        "print(\"Accuracy: {:.4%}\".format(acc))\n",
        "\n",
        "print(confusion_matrix(df_target_test, train_predictions))\n",
        "print(classification_report(df_target_test,train_predictions))\n",
        "\n",
        "train_predictions = rf_best.predict_proba(df_test)\n",
        "ll = log_loss(df_target_test, train_predictions)\n",
        "print(\"Log Loss: {}\".format(ll))\n"
      ],
      "metadata": {
        "colab": {
          "base_uri": "https://localhost:8080/",
          "height": 0
        },
        "id": "ME9BN7fhVOi9",
        "outputId": "7f95535e-860d-42f8-9dad-4a7454085de6"
      },
      "execution_count": 130,
      "outputs": [
        {
          "output_type": "stream",
          "name": "stdout",
          "text": [
            "****Results****\n",
            "Accuracy: 50.9615%\n",
            "[[312 303]\n",
            " [309 324]]\n",
            "              precision    recall  f1-score   support\n",
            "\n",
            "           0       0.50      0.51      0.50       615\n",
            "           1       0.52      0.51      0.51       633\n",
            "\n",
            "    accuracy                           0.51      1248\n",
            "   macro avg       0.51      0.51      0.51      1248\n",
            "weighted avg       0.51      0.51      0.51      1248\n",
            "\n",
            "Log Loss: 0.7805513468734475\n"
          ]
        }
      ]
    },
    {
      "cell_type": "markdown",
      "source": [
        "## Random Forest Classification\n",
        "\n"
      ],
      "metadata": {
        "id": "YcXJiFuAEt-I"
      }
    },
    {
      "cell_type": "markdown",
      "source": [
        "### Note:\n",
        "Accuracy is not a good metric when dealing with imbalance data, because high accuracy may result from one class, the larger class, but prediction on other classes not well. In this project, undersampling method is used to balance the dataset, thus accuracy can be a good metric. "
      ],
      "metadata": {
        "id": "Qcph7GJoN5b5"
      }
    }
  ]
}