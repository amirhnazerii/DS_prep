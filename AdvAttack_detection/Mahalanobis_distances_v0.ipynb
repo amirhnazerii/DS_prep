{
  "nbformat": 4,
  "nbformat_minor": 0,
  "metadata": {
    "colab": {
      "provenance": [],
      "authorship_tag": "ABX9TyPwQ6aAlqVSrrGq7L+Gd5mz",
      "include_colab_link": true
    },
    "kernelspec": {
      "name": "python3",
      "display_name": "Python 3"
    },
    "language_info": {
      "name": "python"
    }
  },
  "cells": [
    {
      "cell_type": "markdown",
      "metadata": {
        "id": "view-in-github",
        "colab_type": "text"
      },
      "source": [
        "<a href=\"https://colab.research.google.com/github/amirhnazerii/DS_prep/blob/main/AdvAttack_detection/Mahalanobis_distances_v0.ipynb\" target=\"_parent\"><img src=\"https://colab.research.google.com/assets/colab-badge.svg\" alt=\"Open In Colab\"/></a>"
      ]
    },
    {
      "cell_type": "markdown",
      "source": [
        "```\n",
        "current file: Mahalanobis_distances_v0\n",
        "previous version: -\n",
        "status: under-test\n",
        "latest update:\n",
        "- mahalanobis_distance function.\n",
        "- obtained intra- & iner-class mahalanobis_distance scores.\n",
        "\n",
        "```"
      ],
      "metadata": {
        "id": "UJ8vjTvEWROD"
      }
    },
    {
      "cell_type": "code",
      "source": [
        "# @title Default title text\n",
        "from google.colab import drive\n",
        "drive.mount(\"./content/\")"
      ],
      "metadata": {
        "colab": {
          "base_uri": "https://localhost:8080/"
        },
        "id": "HEkmiVxVdz_E",
        "outputId": "a1bb2e4c-7d1a-457b-9f92-f0af6946f8eb"
      },
      "execution_count": null,
      "outputs": [
        {
          "output_type": "stream",
          "name": "stdout",
          "text": [
            "Mounted at ./content/\n"
          ]
        }
      ]
    },
    {
      "cell_type": "code",
      "source": [
        "import numpy as np\n",
        "import pickle\n",
        "from collections import defaultdict\n",
        "from scipy.spatial.distance import mahalanobis\n",
        "from numpy.linalg import inv, LinAlgError\n",
        "import sys\n",
        "import os"
      ],
      "metadata": {
        "id": "E65DTYo_dgdo"
      },
      "execution_count": null,
      "outputs": []
    },
    {
      "cell_type": "code",
      "source": [
        "# Function to compute Mahalanobis distance\n",
        "def mahalanobis_distance(logit_vector, mean_vector, inv_cov_matrix):\n",
        "    diff = logit_vector - mean_vector\n",
        "    return np.sqrt(np.dot(np.dot(diff, inv_cov_matrix), diff))"
      ],
      "metadata": {
        "id": "JGUp0P6Nfb92"
      },
      "execution_count": null,
      "outputs": []
    },
    {
      "cell_type": "code",
      "source": [
        "# Path to the directory containing your custom module\n",
        "module_dir = '/content/content/MyDrive/Research/Adversarial Detection'\n",
        "\n",
        "# Add the directory to the Python path\n",
        "sys.path.insert(0, module_dir)"
      ],
      "metadata": {
        "id": "LMFzyAKmeb41"
      },
      "execution_count": null,
      "outputs": []
    },
    {
      "cell_type": "code",
      "source": [
        "# Load from file\n",
        "with open(\"/content/content/MyDrive/Research/Adversarial Detection/CocoDrive/\"+\"clean_logits.pkl\", \"rb\") as f:\n",
        "    clean_logits = pickle.load(f)"
      ],
      "metadata": {
        "id": "9g2yRvPcdiQ2"
      },
      "execution_count": null,
      "outputs": []
    },
    {
      "cell_type": "code",
      "source": [
        "# Compute class-wise statistics\n",
        "class_stats = {}  # Store mean and inverse covariance matrix\n",
        "for class_id, logits in clean_logits.items():\n",
        "    logits = np.vstack(logits)  # Stack arrays into a single matrix (N, 91)\n",
        "\n",
        "    mean_vector = np.mean(logits, axis=0)  # Mean of (91,)\n",
        "\n",
        "    # Compute covariance matrix and its inverse\n",
        "    try:\n",
        "        cov_matrix = np.cov(logits, rowvar=False)  # Covariance of shape (91, 91)\n",
        "        inv_cov_matrix = inv(cov_matrix + np.eye(cov_matrix.shape[0]) * 1e-6)  # Add small noise to avoid singularity\n",
        "    except LinAlgError:\n",
        "        inv_cov_matrix = np.eye(len(mean_vector))  # Use identity if singular\n",
        "\n",
        "    class_stats[class_id] = {\"mean\": mean_vector, \"inv_cov\": inv_cov_matrix}\n"
      ],
      "metadata": {
        "id": "j2ENjo8Fdeoc"
      },
      "execution_count": null,
      "outputs": []
    },
    {
      "cell_type": "code",
      "source": [
        "class_stats[1]['mean']"
      ],
      "metadata": {
        "colab": {
          "base_uri": "https://localhost:8080/"
        },
        "id": "XsqXNfo6evyB",
        "outputId": "07becbd5-189f-4b55-fe0c-4fdbab441d0a"
      },
      "execution_count": null,
      "outputs": [
        {
          "output_type": "execute_result",
          "data": {
            "text/plain": [
              "array([-12.899351 ,  10.397057 ,  -3.4857478,  -1.7225294,  -2.9328318,\n",
              "        -4.9832487,  -3.9769273,  -4.722281 ,  -3.3889906,  -3.5360005,\n",
              "        -4.1859403,  -5.3936863, -13.128919 ,  -7.183772 ,  -6.2100477,\n",
              "        -2.1703548,  -3.4188757,  -4.5210524,  -2.632586 ,  -3.2370589,\n",
              "        -6.1794333,  -4.9468765,  -4.1561675,  -7.037482 ,  -5.9459662,\n",
              "        -4.789493 , -13.118354 ,  -1.2812498,  -2.143003 , -13.139562 ,\n",
              "       -12.988937 ,  -1.2976857,  -3.1181912,  -3.975725 ,  -7.7402744,\n",
              "        -3.9282258,  -4.87034  ,  -4.052152 ,  -3.8594148,  -5.111234 ,\n",
              "        -5.6611624,  -4.6939144,  -4.1341763,  -5.652651 ,  -2.565989 ,\n",
              "       -12.801783 ,  -4.6967487,  -3.2638876,  -4.767526 ,  -5.142218 ,\n",
              "        -5.5112815,  -5.704194 ,  -5.5821743,  -5.614646 ,  -7.009257 ,\n",
              "        -8.571989 ,  -5.1462197,  -5.1313396,  -5.659157 ,  -5.4541035,\n",
              "        -6.379867 ,  -5.616645 ,  -1.3023163,  -4.1990266,  -2.8653646,\n",
              "        -4.649101 , -12.867632 ,  -3.2588215, -12.927051 , -12.959608 ,\n",
              "        -7.1548896, -13.021293 ,  -3.1504705,  -4.818995 ,  -7.829183 ,\n",
              "        -5.3897357,  -8.154529 ,  -2.959596 ,  -8.966315 ,  -5.5936675,\n",
              "       -14.167174 ,  -9.111423 ,  -4.6452303, -13.043508 ,  -4.465408 ,\n",
              "        -4.7563057,  -6.128449 ,  -7.077722 ,  -3.8163893,  -9.677162 ,\n",
              "        -6.571225 ], dtype=float32)"
            ]
          },
          "metadata": {},
          "execution_count": 17
        }
      ]
    },
    {
      "cell_type": "code",
      "execution_count": null,
      "metadata": {
        "colab": {
          "base_uri": "https://localhost:8080/"
        },
        "id": "a1SMBasYC6PJ",
        "outputId": "e9fda785-4a13-4ad6-f898-a5a5bd693d61"
      },
      "outputs": [
        {
          "output_type": "execute_result",
          "data": {
            "text/plain": [
              "24.162998574320692"
            ]
          },
          "metadata": {},
          "execution_count": 73
        }
      ],
      "source": [
        "mahalanobis_distance(logit_vector= clean_logits[6][50],\n",
        "                     mean_vector= class_stats[8]['mean'],\n",
        "                     inv_cov_matrix= class_stats[8]['inv_cov'])"
      ]
    },
    {
      "cell_type": "code",
      "source": [
        "clean_logits[1][]"
      ],
      "metadata": {
        "colab": {
          "base_uri": "https://localhost:8080/"
        },
        "id": "sUdqZhEff4b4",
        "outputId": "8c743de6-34bb-4499-8495-25d3e74a3e9d"
      },
      "execution_count": null,
      "outputs": [
        {
          "output_type": "execute_result",
          "data": {
            "text/plain": [
              "array([-12.54174   ,   9.792647  ,  -1.7433351 ,  -0.85161096,\n",
              "        -0.02825543,  -5.324423  ,  -3.9490123 ,  -6.2732706 ,\n",
              "        -2.4501727 ,  -3.6488934 ,  -2.7198057 ,  -3.8547196 ,\n",
              "       -12.694702  ,  -4.736986  ,  -4.2278137 ,  -2.0455203 ,\n",
              "        -2.9250526 ,  -6.374608  ,  -3.586822  ,  -0.97437656,\n",
              "        -5.6016026 ,  -4.091899  ,  -2.5464394 ,  -8.643649  ,\n",
              "        -3.9009213 ,  -4.256257  , -12.65349   ,   0.5246995 ,\n",
              "        -0.1166676 , -12.788624  , -12.769668  ,   0.28168285,\n",
              "        -2.2850685 ,  -3.2069716 ,  -7.6638336 ,  -3.997672  ,\n",
              "        -3.184918  ,  -4.0266924 ,  -2.7760394 ,  -4.7967606 ,\n",
              "        -4.689472  ,  -5.1653132 ,  -3.013869  ,  -6.5260534 ,\n",
              "        -2.5759482 , -12.5065775 ,  -3.669574  ,  -3.629871  ,\n",
              "        -5.1477203 ,  -6.190435  ,  -5.4902406 ,  -7.2007613 ,\n",
              "        -4.409439  ,  -6.7354507 ,  -7.23689   ,  -7.8974    ,\n",
              "        -5.161117  ,  -5.084773  ,  -7.0800686 ,  -8.396606  ,\n",
              "        -7.49788   ,  -7.0337415 ,  -0.9813687 ,  -5.232019  ,\n",
              "        -2.2236414 ,  -4.9085126 , -12.594864  ,  -3.304098  ,\n",
              "       -12.624621  , -12.379579  ,  -7.3908744 , -12.676286  ,\n",
              "        -4.741656  ,  -5.828818  ,  -8.0427065 ,  -7.264073  ,\n",
              "       -10.212984  ,  -3.2690713 , -10.643191  ,  -8.672993  ,\n",
              "       -14.884189  ,  -9.668201  ,  -7.3241515 , -12.938064  ,\n",
              "        -5.96363   ,  -5.8264627 ,  -5.9950213 ,  -8.364629  ,\n",
              "        -3.9759982 ,  -9.354414  ,  -6.6113048 ], dtype=float32)"
            ]
          },
          "metadata": {},
          "execution_count": 22
        }
      ]
    },
    {
      "cell_type": "code",
      "source": [],
      "metadata": {
        "id": "zGrZrDLxf41O"
      },
      "execution_count": null,
      "outputs": []
    }
  ]
}